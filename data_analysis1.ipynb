{
  "nbformat": 4,
  "nbformat_minor": 0,
  "metadata": {
    "colab": {
      "name": "data_analysis1.ipynb",
      "provenance": [],
      "collapsed_sections": [],
      "include_colab_link": true
    },
    "kernelspec": {
      "name": "python3",
      "display_name": "Python 3"
    },
    "language_info": {
      "name": "python"
    }
  },
  "cells": [
    {
      "cell_type": "markdown",
      "metadata": {
        "id": "view-in-github",
        "colab_type": "text"
      },
      "source": [
        "<a href=\"https://colab.research.google.com/github/Raghav030/engage_data_analysis/blob/main/data_analysis1.ipynb\" target=\"_parent\"><img src=\"https://colab.research.google.com/assets/colab-badge.svg\" alt=\"Open In Colab\"/></a>"
      ]
    },
    {
      "cell_type": "code",
      "execution_count": null,
      "metadata": {
        "id": "U2cycvSwdCsG"
      },
      "outputs": [],
      "source": [
        "import pandas as pd\n",
        "import numpy as np\n",
        "from google.colab import files"
      ]
    },
    {
      "cell_type": "code",
      "source": [
        ""
      ],
      "metadata": {
        "id": "zTmLuEZApnvJ"
      },
      "execution_count": null,
      "outputs": []
    },
    {
      "cell_type": "code",
      "source": [
        "from google.colab import drive\n",
        "drive.mount('/content/drive/')"
      ],
      "metadata": {
        "colab": {
          "base_uri": "https://localhost:8080/"
        },
        "id": "EelmbavqfQL7",
        "outputId": "024ae5de-4158-4d38-bb03-b10d4f233c5e"
      },
      "execution_count": null,
      "outputs": [
        {
          "output_type": "stream",
          "name": "stdout",
          "text": [
            "Drive already mounted at /content/drive/; to attempt to forcibly remount, call drive.mount(\"/content/drive/\", force_remount=True).\n"
          ]
        }
      ]
    },
    {
      "cell_type": "code",
      "source": [
        ""
      ],
      "metadata": {
        "id": "g6xz2Zfhpq_b"
      },
      "execution_count": null,
      "outputs": []
    },
    {
      "cell_type": "code",
      "source": [
        "data = pd.read_csv('/content/drive/MyDrive/Microsoft engage/cars_engage_2022.csv')\n",
        "data.head()"
      ],
      "metadata": {
        "colab": {
          "base_uri": "https://localhost:8080/",
          "height": 490
        },
        "id": "giAejxIlfeN2",
        "outputId": "a2a5e7d2-a34b-4527-8a2c-266008a9a0cb"
      },
      "execution_count": null,
      "outputs": [
        {
          "output_type": "execute_result",
          "data": {
            "text/plain": [
              "   Unnamed: 0  Make      Model  Variant Ex-Showroom_Price Displacement  \\\n",
              "0           0  Tata  Nano Genx       Xt      Rs. 2,92,667       624 cc   \n",
              "1           1  Tata  Nano Genx       Xe      Rs. 2,36,447       624 cc   \n",
              "2           2  Tata  Nano Genx  Emax Xm      Rs. 2,96,661       624 cc   \n",
              "3           3  Tata  Nano Genx      Xta      Rs. 3,34,768       624 cc   \n",
              "4           4  Tata  Nano Genx       Xm      Rs. 2,72,223       624 cc   \n",
              "\n",
              "   Cylinders  Valves_Per_Cylinder              Drivetrain  \\\n",
              "0        2.0                  2.0  RWD (Rear Wheel Drive)   \n",
              "1        2.0                  2.0  RWD (Rear Wheel Drive)   \n",
              "2        2.0                  2.0  RWD (Rear Wheel Drive)   \n",
              "3        2.0                  2.0  RWD (Rear Wheel Drive)   \n",
              "4        2.0                  2.0  RWD (Rear Wheel Drive)   \n",
              "\n",
              "  Cylinder_Configuration  ... Leather_Wrapped_Steering Automatic_Headlamps  \\\n",
              "0                In-line  ...                      NaN                 NaN   \n",
              "1                In-line  ...                      NaN                 NaN   \n",
              "2                In-line  ...                      NaN                 NaN   \n",
              "3                In-line  ...                      NaN                 NaN   \n",
              "4                In-line  ...                      NaN                 NaN   \n",
              "\n",
              "  Engine_Type ASR_/_Traction_Control Cruise_Control USB_Ports  \\\n",
              "0         NaN                    NaN            NaN       NaN   \n",
              "1         NaN                    NaN            NaN       NaN   \n",
              "2         NaN                    NaN            NaN       NaN   \n",
              "3         NaN                    NaN            NaN       NaN   \n",
              "4         NaN                    NaN            NaN       NaN   \n",
              "\n",
              "  Heads-Up_Display Welcome_Lights Battery  Electric_Range  \n",
              "0              NaN            NaN     NaN             NaN  \n",
              "1              NaN            NaN     NaN             NaN  \n",
              "2              NaN            NaN     NaN             NaN  \n",
              "3              NaN            NaN     NaN             NaN  \n",
              "4              NaN            NaN     NaN             NaN  \n",
              "\n",
              "[5 rows x 141 columns]"
            ],
            "text/html": [
              "\n",
              "  <div id=\"df-c47732dc-6911-4683-a1f9-2a639cf1eeda\">\n",
              "    <div class=\"colab-df-container\">\n",
              "      <div>\n",
              "<style scoped>\n",
              "    .dataframe tbody tr th:only-of-type {\n",
              "        vertical-align: middle;\n",
              "    }\n",
              "\n",
              "    .dataframe tbody tr th {\n",
              "        vertical-align: top;\n",
              "    }\n",
              "\n",
              "    .dataframe thead th {\n",
              "        text-align: right;\n",
              "    }\n",
              "</style>\n",
              "<table border=\"1\" class=\"dataframe\">\n",
              "  <thead>\n",
              "    <tr style=\"text-align: right;\">\n",
              "      <th></th>\n",
              "      <th>Unnamed: 0</th>\n",
              "      <th>Make</th>\n",
              "      <th>Model</th>\n",
              "      <th>Variant</th>\n",
              "      <th>Ex-Showroom_Price</th>\n",
              "      <th>Displacement</th>\n",
              "      <th>Cylinders</th>\n",
              "      <th>Valves_Per_Cylinder</th>\n",
              "      <th>Drivetrain</th>\n",
              "      <th>Cylinder_Configuration</th>\n",
              "      <th>...</th>\n",
              "      <th>Leather_Wrapped_Steering</th>\n",
              "      <th>Automatic_Headlamps</th>\n",
              "      <th>Engine_Type</th>\n",
              "      <th>ASR_/_Traction_Control</th>\n",
              "      <th>Cruise_Control</th>\n",
              "      <th>USB_Ports</th>\n",
              "      <th>Heads-Up_Display</th>\n",
              "      <th>Welcome_Lights</th>\n",
              "      <th>Battery</th>\n",
              "      <th>Electric_Range</th>\n",
              "    </tr>\n",
              "  </thead>\n",
              "  <tbody>\n",
              "    <tr>\n",
              "      <th>0</th>\n",
              "      <td>0</td>\n",
              "      <td>Tata</td>\n",
              "      <td>Nano Genx</td>\n",
              "      <td>Xt</td>\n",
              "      <td>Rs. 2,92,667</td>\n",
              "      <td>624 cc</td>\n",
              "      <td>2.0</td>\n",
              "      <td>2.0</td>\n",
              "      <td>RWD (Rear Wheel Drive)</td>\n",
              "      <td>In-line</td>\n",
              "      <td>...</td>\n",
              "      <td>NaN</td>\n",
              "      <td>NaN</td>\n",
              "      <td>NaN</td>\n",
              "      <td>NaN</td>\n",
              "      <td>NaN</td>\n",
              "      <td>NaN</td>\n",
              "      <td>NaN</td>\n",
              "      <td>NaN</td>\n",
              "      <td>NaN</td>\n",
              "      <td>NaN</td>\n",
              "    </tr>\n",
              "    <tr>\n",
              "      <th>1</th>\n",
              "      <td>1</td>\n",
              "      <td>Tata</td>\n",
              "      <td>Nano Genx</td>\n",
              "      <td>Xe</td>\n",
              "      <td>Rs. 2,36,447</td>\n",
              "      <td>624 cc</td>\n",
              "      <td>2.0</td>\n",
              "      <td>2.0</td>\n",
              "      <td>RWD (Rear Wheel Drive)</td>\n",
              "      <td>In-line</td>\n",
              "      <td>...</td>\n",
              "      <td>NaN</td>\n",
              "      <td>NaN</td>\n",
              "      <td>NaN</td>\n",
              "      <td>NaN</td>\n",
              "      <td>NaN</td>\n",
              "      <td>NaN</td>\n",
              "      <td>NaN</td>\n",
              "      <td>NaN</td>\n",
              "      <td>NaN</td>\n",
              "      <td>NaN</td>\n",
              "    </tr>\n",
              "    <tr>\n",
              "      <th>2</th>\n",
              "      <td>2</td>\n",
              "      <td>Tata</td>\n",
              "      <td>Nano Genx</td>\n",
              "      <td>Emax Xm</td>\n",
              "      <td>Rs. 2,96,661</td>\n",
              "      <td>624 cc</td>\n",
              "      <td>2.0</td>\n",
              "      <td>2.0</td>\n",
              "      <td>RWD (Rear Wheel Drive)</td>\n",
              "      <td>In-line</td>\n",
              "      <td>...</td>\n",
              "      <td>NaN</td>\n",
              "      <td>NaN</td>\n",
              "      <td>NaN</td>\n",
              "      <td>NaN</td>\n",
              "      <td>NaN</td>\n",
              "      <td>NaN</td>\n",
              "      <td>NaN</td>\n",
              "      <td>NaN</td>\n",
              "      <td>NaN</td>\n",
              "      <td>NaN</td>\n",
              "    </tr>\n",
              "    <tr>\n",
              "      <th>3</th>\n",
              "      <td>3</td>\n",
              "      <td>Tata</td>\n",
              "      <td>Nano Genx</td>\n",
              "      <td>Xta</td>\n",
              "      <td>Rs. 3,34,768</td>\n",
              "      <td>624 cc</td>\n",
              "      <td>2.0</td>\n",
              "      <td>2.0</td>\n",
              "      <td>RWD (Rear Wheel Drive)</td>\n",
              "      <td>In-line</td>\n",
              "      <td>...</td>\n",
              "      <td>NaN</td>\n",
              "      <td>NaN</td>\n",
              "      <td>NaN</td>\n",
              "      <td>NaN</td>\n",
              "      <td>NaN</td>\n",
              "      <td>NaN</td>\n",
              "      <td>NaN</td>\n",
              "      <td>NaN</td>\n",
              "      <td>NaN</td>\n",
              "      <td>NaN</td>\n",
              "    </tr>\n",
              "    <tr>\n",
              "      <th>4</th>\n",
              "      <td>4</td>\n",
              "      <td>Tata</td>\n",
              "      <td>Nano Genx</td>\n",
              "      <td>Xm</td>\n",
              "      <td>Rs. 2,72,223</td>\n",
              "      <td>624 cc</td>\n",
              "      <td>2.0</td>\n",
              "      <td>2.0</td>\n",
              "      <td>RWD (Rear Wheel Drive)</td>\n",
              "      <td>In-line</td>\n",
              "      <td>...</td>\n",
              "      <td>NaN</td>\n",
              "      <td>NaN</td>\n",
              "      <td>NaN</td>\n",
              "      <td>NaN</td>\n",
              "      <td>NaN</td>\n",
              "      <td>NaN</td>\n",
              "      <td>NaN</td>\n",
              "      <td>NaN</td>\n",
              "      <td>NaN</td>\n",
              "      <td>NaN</td>\n",
              "    </tr>\n",
              "  </tbody>\n",
              "</table>\n",
              "<p>5 rows × 141 columns</p>\n",
              "</div>\n",
              "      <button class=\"colab-df-convert\" onclick=\"convertToInteractive('df-c47732dc-6911-4683-a1f9-2a639cf1eeda')\"\n",
              "              title=\"Convert this dataframe to an interactive table.\"\n",
              "              style=\"display:none;\">\n",
              "        \n",
              "  <svg xmlns=\"http://www.w3.org/2000/svg\" height=\"24px\"viewBox=\"0 0 24 24\"\n",
              "       width=\"24px\">\n",
              "    <path d=\"M0 0h24v24H0V0z\" fill=\"none\"/>\n",
              "    <path d=\"M18.56 5.44l.94 2.06.94-2.06 2.06-.94-2.06-.94-.94-2.06-.94 2.06-2.06.94zm-11 1L8.5 8.5l.94-2.06 2.06-.94-2.06-.94L8.5 2.5l-.94 2.06-2.06.94zm10 10l.94 2.06.94-2.06 2.06-.94-2.06-.94-.94-2.06-.94 2.06-2.06.94z\"/><path d=\"M17.41 7.96l-1.37-1.37c-.4-.4-.92-.59-1.43-.59-.52 0-1.04.2-1.43.59L10.3 9.45l-7.72 7.72c-.78.78-.78 2.05 0 2.83L4 21.41c.39.39.9.59 1.41.59.51 0 1.02-.2 1.41-.59l7.78-7.78 2.81-2.81c.8-.78.8-2.07 0-2.86zM5.41 20L4 18.59l7.72-7.72 1.47 1.35L5.41 20z\"/>\n",
              "  </svg>\n",
              "      </button>\n",
              "      \n",
              "  <style>\n",
              "    .colab-df-container {\n",
              "      display:flex;\n",
              "      flex-wrap:wrap;\n",
              "      gap: 12px;\n",
              "    }\n",
              "\n",
              "    .colab-df-convert {\n",
              "      background-color: #E8F0FE;\n",
              "      border: none;\n",
              "      border-radius: 50%;\n",
              "      cursor: pointer;\n",
              "      display: none;\n",
              "      fill: #1967D2;\n",
              "      height: 32px;\n",
              "      padding: 0 0 0 0;\n",
              "      width: 32px;\n",
              "    }\n",
              "\n",
              "    .colab-df-convert:hover {\n",
              "      background-color: #E2EBFA;\n",
              "      box-shadow: 0px 1px 2px rgba(60, 64, 67, 0.3), 0px 1px 3px 1px rgba(60, 64, 67, 0.15);\n",
              "      fill: #174EA6;\n",
              "    }\n",
              "\n",
              "    [theme=dark] .colab-df-convert {\n",
              "      background-color: #3B4455;\n",
              "      fill: #D2E3FC;\n",
              "    }\n",
              "\n",
              "    [theme=dark] .colab-df-convert:hover {\n",
              "      background-color: #434B5C;\n",
              "      box-shadow: 0px 1px 3px 1px rgba(0, 0, 0, 0.15);\n",
              "      filter: drop-shadow(0px 1px 2px rgba(0, 0, 0, 0.3));\n",
              "      fill: #FFFFFF;\n",
              "    }\n",
              "  </style>\n",
              "\n",
              "      <script>\n",
              "        const buttonEl =\n",
              "          document.querySelector('#df-c47732dc-6911-4683-a1f9-2a639cf1eeda button.colab-df-convert');\n",
              "        buttonEl.style.display =\n",
              "          google.colab.kernel.accessAllowed ? 'block' : 'none';\n",
              "\n",
              "        async function convertToInteractive(key) {\n",
              "          const element = document.querySelector('#df-c47732dc-6911-4683-a1f9-2a639cf1eeda');\n",
              "          const dataTable =\n",
              "            await google.colab.kernel.invokeFunction('convertToInteractive',\n",
              "                                                     [key], {});\n",
              "          if (!dataTable) return;\n",
              "\n",
              "          const docLinkHtml = 'Like what you see? Visit the ' +\n",
              "            '<a target=\"_blank\" href=https://colab.research.google.com/notebooks/data_table.ipynb>data table notebook</a>'\n",
              "            + ' to learn more about interactive tables.';\n",
              "          element.innerHTML = '';\n",
              "          dataTable['output_type'] = 'display_data';\n",
              "          await google.colab.output.renderOutput(dataTable, element);\n",
              "          const docLink = document.createElement('div');\n",
              "          docLink.innerHTML = docLinkHtml;\n",
              "          element.appendChild(docLink);\n",
              "        }\n",
              "      </script>\n",
              "    </div>\n",
              "  </div>\n",
              "  "
            ]
          },
          "metadata": {},
          "execution_count": 67
        }
      ]
    },
    {
      "cell_type": "code",
      "source": [
        "# last  \n",
        "import seaborn as sb\n",
        "# new libs \n",
        "import statsmodels as sbs "
      ],
      "metadata": {
        "id": "2SsJON4QpsmU"
      },
      "execution_count": null,
      "outputs": []
    },
    {
      "cell_type": "code",
      "source": [
        "# print(data.info())\n",
        "# print(\"\")\n",
        "\n",
        "# print(data.describe())\n",
        "# print(\"\")\n",
        "# print(data.isna().sum())\n",
        "# print(\"\")\n",
        "# for col in data:\n",
        "#   print(data[col].unique)\n",
        "# print(\"\")"
      ],
      "metadata": {
        "id": "o0H8Fxdfj3ec"
      },
      "execution_count": null,
      "outputs": []
    },
    {
      "cell_type": "code",
      "source": [
        "#data0=data.dropna()\n",
        "#data0.head()\n",
        "# fm['Leather_Wrapped_Steering'].replace({1: \"male\", 0: \"female\"}, inplace=True)"
      ],
      "metadata": {
        "id": "sdvWrV4krYVu"
      },
      "execution_count": null,
      "outputs": []
    },
    {
      "cell_type": "code",
      "source": [
        "cars=['index' ,'Make',\t'Model',\t'Variant'\t,'Ex-Showroom_Price',\t'Displacement'\t,'Cylinders'\t,'Valves_Per_Cylinder'\t,'Drivetrain'\t,'Cylinder_Configuration','Emission_Norm',\t'Engine_Location',\t'Fuel_System' ,'Fuel_Tank_Capacity'\t,'Fuel_Type'\t,'Height'\t,'Length'\t,'Width'\t,'Body_Type'\t,'Doors'\t,'City_Mileage'\t,'Highway_Mileage'\t,'ARAI_Certified_Mileage',\t'ARAI_Certified_Mileage_for_CNG'\t,'Kerb_Weight'\t,'Gears'\t,'Ground_Clearance'\t,'Front_Brakes'\t,'Rear_Brakes', 'Front_Suspension'\t,'Rear_Suspension' ,'Front_Track' ,'Rear_Track'\t,'Front_Tyre_&_Rim'\t,'Rear_Tyre_&_Rim'\t,'Power_Steering'\t,'Power_Windows'\t,'Power_Seats'\t,'Keyless_Entry'\t,'Power'\t,'Torque'\t,'Odometer'\t,'Speedometer'\t,'Tachometer'\t,'Tripmeter'\t,'Seating_Capacity'\t,'Seats_Material'\t,'Type'\t,'Wheelbase'\t,'Wheels_Size'\t,'Start_/_Stop_Button'\t,'12v_Power_Outlet'\t,'Audiosystem'\t,'Aux-in_Compatibility'\t,'Average_Fuel_Consumption'\t,'Basic_Warranty'\t,'Bluetooth'\t,'Boot-lid_Opener'\t,'Boot_Space'\t,'CD_/_MP3_/_DVD_Player'\t,'Central_Locking'\t,'Child_Safety_Locks'\t,'Clock'\t,'Cup_Holders'\t,'Distance_to_Empty'\t,'Door_Pockets'\t,'Engine_Malfunction_Light'\t,'Extended_Warranty'\t,'FM_Radio'\t,'Fuel-lid_Opener'\t,'Fuel_Gauge'\t,'Handbrake'\t,'Instrument_Console'\t,'Low_Fuel_Warning'\t,'Minimum_Turning_Radius'\t,'Multifunction_Display'\t,'Sun_Visor'\t,'Third_Row_AC_Vents'\t,'Ventilation_System'\t,'Auto-Dimming_Rear-View_Mirror'\t,'Hill_Assist'\t,'Gear_Indicator'\t,'3_Point_Seat-Belt_in_Middle_Rear_Seat'\t,'Ambient_Lightning'\t,'Cargo/Boot_Lights'\t,'Drive_Modes'\t,'Engine_Immobilizer'\t,'High_Speed_Alert_System'\t,'Lane_Watch_Camera/_Side_Mirror_Camera'\t,'Passenger_Side_Seat-Belt_Reminder'\t,'Seat_Back_Pockets'\t,'Voice_Recognition'\t,'Walk_Away_Auto_Car_Lock'\t,'ABS_(Anti-lock_Braking_System)'\t,'Headlight_Reminder'\t,'Adjustable_Headrests'\t,'Gross_Vehicle_Weight'\t,'Airbags'\t,'Door_Ajar_Warning'\t,'EBD_(Electronic_Brake-force_Distribution)'\t,'Fasten_Seat_Belt_Warning'\t,'Gear_Shift_Reminder'\t,'Number_of_Airbags'\t,'Compression_Ratio'\t,'Adjustable_Steering_Column'\t,'Other_Specs'\t,'Other_specs'\t,'Parking_Assistance'\t,'Key_Off_Reminder'\t,'USB_Compatibility'\t,'Android_Auto'\t,'Apple_CarPlay'\t,'Cigarette_Lighter'\t,'Infotainment_Screen'\t,'Multifunction_Steering_Wheel'\t,'Average_Speed'\t,'EBA_(Electronic_Brake_Assist)'\t,'Seat_Height_Adjustment'\t,'Navigation_System'\t,'Second_Row_AC_Vents'\t,'Tyre_Pressure_Monitoring_System'\t,'Rear_Center_Armrest'\t,'iPod_Compatibility'\t,'ESP_(Electronic_Stability_Program)'\t,'Cooled_Glove_Box'\t,'Recommended_Tyre_Pressure'\t,'Heated_Seats'\t,'Turbocharger'\t,'ISOFIX_(Child-Seat_Mount)'\t,'Rain_Sensing_Wipers'\t,'Paddle_Shifters'\t,'Leather_Wrapped_Steering'\t,'Automatic_Headlamps'\t,'Engine_Type'\t,'ASR_/_Traction_Control'\t,'Cruise_Control'\t,'USB_Ports'\t,'Heads-Up_Display'\t,'Welcome_Lights'\t,'Battery'\t,'Electric_Range']\n",
        "data.columns = cars\n",
        "\n",
        "data=data.drop('Leather_Wrapped_Steering',1)\n",
        "print(data)\n"
      ],
      "metadata": {
        "colab": {
          "base_uri": "https://localhost:8080/"
        },
        "id": "vehH2YBkvVqQ",
        "outputId": "73c44cd4-53bf-4e8e-c3a5-249350c8bc36"
      },
      "execution_count": null,
      "outputs": [
        {
          "output_type": "stream",
          "name": "stdout",
          "text": [
            "      index        Make      Model        Variant Ex-Showroom_Price  \\\n",
            "0         0        Tata  Nano Genx             Xt      Rs. 2,92,667   \n",
            "1         1        Tata  Nano Genx             Xe      Rs. 2,36,447   \n",
            "2         2        Tata  Nano Genx        Emax Xm      Rs. 2,96,661   \n",
            "3         3        Tata  Nano Genx            Xta      Rs. 3,34,768   \n",
            "4         4        Tata  Nano Genx             Xm      Rs. 2,72,223   \n",
            "...     ...         ...        ...            ...               ...   \n",
            "1271   1271       Honda       City   Vx Mt Diesel     Rs. 13,02,000   \n",
            "1272   1272       Honda       City   Zx Mt Diesel     Rs. 14,21,000   \n",
            "1273   1273       Honda       City  Zx Cvt Petrol     Rs. 14,31,000   \n",
            "1274   1274       Honda       City   V Cvt Petrol     Rs. 12,01,000   \n",
            "1275   1275  Mitsubishi    Montero         3.2 At     Rs. 68,62,560   \n",
            "\n",
            "     Displacement  Cylinders  Valves_Per_Cylinder               Drivetrain  \\\n",
            "0          624 cc        2.0                  2.0   RWD (Rear Wheel Drive)   \n",
            "1          624 cc        2.0                  2.0   RWD (Rear Wheel Drive)   \n",
            "2          624 cc        2.0                  2.0   RWD (Rear Wheel Drive)   \n",
            "3          624 cc        2.0                  2.0   RWD (Rear Wheel Drive)   \n",
            "4          624 cc        2.0                  2.0   RWD (Rear Wheel Drive)   \n",
            "...           ...        ...                  ...                      ...   \n",
            "1271      1498 cc        4.0                  4.0  FWD (Front Wheel Drive)   \n",
            "1272      1498 cc        4.0                  4.0  FWD (Front Wheel Drive)   \n",
            "1273      1497 cc        4.0                  4.0  FWD (Front Wheel Drive)   \n",
            "1274      1497 cc        4.0                  4.0  FWD (Front Wheel Drive)   \n",
            "1275      3200 cc        4.0                  4.0    AWD (All Wheel Drive)   \n",
            "\n",
            "     Cylinder_Configuration  ... Paddle_Shifters Automatic_Headlamps  \\\n",
            "0                   In-line  ...             NaN                 NaN   \n",
            "1                   In-line  ...             NaN                 NaN   \n",
            "2                   In-line  ...             NaN                 NaN   \n",
            "3                   In-line  ...             NaN                 NaN   \n",
            "4                   In-line  ...             NaN                 NaN   \n",
            "...                     ...  ...             ...                 ...   \n",
            "1271                In-line  ...             NaN                 NaN   \n",
            "1272                In-line  ...             NaN                 Yes   \n",
            "1273                In-line  ...             Yes                 Yes   \n",
            "1274                In-line  ...             Yes                 NaN   \n",
            "1275                In-line  ...             NaN                 NaN   \n",
            "\n",
            "     Engine_Type ASR_/_Traction_Control Cruise_Control USB_Ports  \\\n",
            "0            NaN                    NaN            NaN       NaN   \n",
            "1            NaN                    NaN            NaN       NaN   \n",
            "2            NaN                    NaN            NaN       NaN   \n",
            "3            NaN                    NaN            NaN       NaN   \n",
            "4            NaN                    NaN            NaN       NaN   \n",
            "...          ...                    ...            ...       ...   \n",
            "1271         NaN                    NaN            Yes       NaN   \n",
            "1272         NaN                    NaN            Yes       NaN   \n",
            "1273         NaN                    NaN            Yes       NaN   \n",
            "1274         NaN                    NaN            Yes       NaN   \n",
            "1275         NaN                    Yes            Yes       NaN   \n",
            "\n",
            "     Heads-Up_Display Welcome_Lights Battery  Electric_Range  \n",
            "0                 NaN            NaN     NaN             NaN  \n",
            "1                 NaN            NaN     NaN             NaN  \n",
            "2                 NaN            NaN     NaN             NaN  \n",
            "3                 NaN            NaN     NaN             NaN  \n",
            "4                 NaN            NaN     NaN             NaN  \n",
            "...               ...            ...     ...             ...  \n",
            "1271              NaN            NaN     NaN             NaN  \n",
            "1272              NaN            NaN     NaN             NaN  \n",
            "1273              NaN            NaN     NaN             NaN  \n",
            "1274              NaN            NaN     NaN             NaN  \n",
            "1275              NaN            NaN     NaN             NaN  \n",
            "\n",
            "[1276 rows x 140 columns]\n"
          ]
        },
        {
          "output_type": "stream",
          "name": "stderr",
          "text": [
            "/usr/local/lib/python3.7/dist-packages/ipykernel_launcher.py:4: FutureWarning: In a future version of pandas all arguments of DataFrame.drop except for the argument 'labels' will be keyword-only\n",
            "  after removing the cwd from sys.path.\n"
          ]
        }
      ]
    },
    {
      "cell_type": "code",
      "source": [
        "#from scipy import stats \n",
        " \n",
        "#data = data.dropna() \n",
        "#data = data[stats.zscore(Leather_Wrapped_Steering\t) < 3] \n",
        "#data = data[stats.zscore(data.hp) < 3] \n",
        "#data = data[stats.zscore(data.mileage) < 3] "
      ],
      "metadata": {
        "id": "4iKhYdZvq5Zi"
      },
      "execution_count": null,
      "outputs": []
    },
    {
      "cell_type": "code",
      "source": [
        "data.shape"
      ],
      "metadata": {
        "colab": {
          "base_uri": "https://localhost:8080/"
        },
        "id": "f-cmkVi5llhs",
        "outputId": "d1aea8b6-dac4-4f57-9727-6b4b8ffecf45"
      },
      "execution_count": null,
      "outputs": [
        {
          "output_type": "execute_result",
          "data": {
            "text/plain": [
              "(1276, 140)"
            ]
          },
          "metadata": {},
          "execution_count": 73
        }
      ]
    },
    {
      "cell_type": "code",
      "source": [
        "data.info()"
      ],
      "metadata": {
        "colab": {
          "base_uri": "https://localhost:8080/"
        },
        "id": "OI9ukjAGnJ9g",
        "outputId": "de54e9b0-1b1b-43c8-99af-9310a5335aaf"
      },
      "execution_count": null,
      "outputs": [
        {
          "output_type": "stream",
          "name": "stdout",
          "text": [
            "<class 'pandas.core.frame.DataFrame'>\n",
            "RangeIndex: 1276 entries, 0 to 1275\n",
            "Columns: 140 entries, index to Electric_Range\n",
            "dtypes: float64(6), int64(1), object(133)\n",
            "memory usage: 1.4+ MB\n"
          ]
        }
      ]
    },
    {
      "cell_type": "code",
      "source": [
        "data.describe()"
      ],
      "metadata": {
        "colab": {
          "base_uri": "https://localhost:8080/",
          "height": 300
        },
        "id": "KnydJRDWnkEV",
        "outputId": "aae6f15a-07d6-4d48-82fe-b0d460f53074"
      },
      "execution_count": null,
      "outputs": [
        {
          "output_type": "execute_result",
          "data": {
            "text/plain": [
              "             index    Cylinders  Valves_Per_Cylinder        Doors  \\\n",
              "count  1276.000000  1210.000000          1174.000000  1272.000000   \n",
              "mean    637.500000     4.380992             3.977853     4.550314   \n",
              "std     368.493781     1.660957             0.833763     0.747816   \n",
              "min       0.000000     2.000000             1.000000     2.000000   \n",
              "25%     318.750000     4.000000             4.000000     4.000000   \n",
              "50%     637.500000     4.000000             4.000000     5.000000   \n",
              "75%     956.250000     4.000000             4.000000     5.000000   \n",
              "max    1275.000000    16.000000            16.000000     5.000000   \n",
              "\n",
              "       Seating_Capacity  Number_of_Airbags  USB_Ports  \n",
              "count       1270.000000        1141.000000  29.000000  \n",
              "mean           5.270079           3.787029   1.793103  \n",
              "std            1.145231           2.522399   0.773642  \n",
              "min            2.000000           1.000000   1.000000  \n",
              "25%            5.000000           2.000000   1.000000  \n",
              "50%            5.000000           2.000000   2.000000  \n",
              "75%            5.000000           6.000000   2.000000  \n",
              "max           16.000000          14.000000   3.000000  "
            ],
            "text/html": [
              "\n",
              "  <div id=\"df-ac1d192e-9801-44b3-a825-cb72cef3cb37\">\n",
              "    <div class=\"colab-df-container\">\n",
              "      <div>\n",
              "<style scoped>\n",
              "    .dataframe tbody tr th:only-of-type {\n",
              "        vertical-align: middle;\n",
              "    }\n",
              "\n",
              "    .dataframe tbody tr th {\n",
              "        vertical-align: top;\n",
              "    }\n",
              "\n",
              "    .dataframe thead th {\n",
              "        text-align: right;\n",
              "    }\n",
              "</style>\n",
              "<table border=\"1\" class=\"dataframe\">\n",
              "  <thead>\n",
              "    <tr style=\"text-align: right;\">\n",
              "      <th></th>\n",
              "      <th>index</th>\n",
              "      <th>Cylinders</th>\n",
              "      <th>Valves_Per_Cylinder</th>\n",
              "      <th>Doors</th>\n",
              "      <th>Seating_Capacity</th>\n",
              "      <th>Number_of_Airbags</th>\n",
              "      <th>USB_Ports</th>\n",
              "    </tr>\n",
              "  </thead>\n",
              "  <tbody>\n",
              "    <tr>\n",
              "      <th>count</th>\n",
              "      <td>1276.000000</td>\n",
              "      <td>1210.000000</td>\n",
              "      <td>1174.000000</td>\n",
              "      <td>1272.000000</td>\n",
              "      <td>1270.000000</td>\n",
              "      <td>1141.000000</td>\n",
              "      <td>29.000000</td>\n",
              "    </tr>\n",
              "    <tr>\n",
              "      <th>mean</th>\n",
              "      <td>637.500000</td>\n",
              "      <td>4.380992</td>\n",
              "      <td>3.977853</td>\n",
              "      <td>4.550314</td>\n",
              "      <td>5.270079</td>\n",
              "      <td>3.787029</td>\n",
              "      <td>1.793103</td>\n",
              "    </tr>\n",
              "    <tr>\n",
              "      <th>std</th>\n",
              "      <td>368.493781</td>\n",
              "      <td>1.660957</td>\n",
              "      <td>0.833763</td>\n",
              "      <td>0.747816</td>\n",
              "      <td>1.145231</td>\n",
              "      <td>2.522399</td>\n",
              "      <td>0.773642</td>\n",
              "    </tr>\n",
              "    <tr>\n",
              "      <th>min</th>\n",
              "      <td>0.000000</td>\n",
              "      <td>2.000000</td>\n",
              "      <td>1.000000</td>\n",
              "      <td>2.000000</td>\n",
              "      <td>2.000000</td>\n",
              "      <td>1.000000</td>\n",
              "      <td>1.000000</td>\n",
              "    </tr>\n",
              "    <tr>\n",
              "      <th>25%</th>\n",
              "      <td>318.750000</td>\n",
              "      <td>4.000000</td>\n",
              "      <td>4.000000</td>\n",
              "      <td>4.000000</td>\n",
              "      <td>5.000000</td>\n",
              "      <td>2.000000</td>\n",
              "      <td>1.000000</td>\n",
              "    </tr>\n",
              "    <tr>\n",
              "      <th>50%</th>\n",
              "      <td>637.500000</td>\n",
              "      <td>4.000000</td>\n",
              "      <td>4.000000</td>\n",
              "      <td>5.000000</td>\n",
              "      <td>5.000000</td>\n",
              "      <td>2.000000</td>\n",
              "      <td>2.000000</td>\n",
              "    </tr>\n",
              "    <tr>\n",
              "      <th>75%</th>\n",
              "      <td>956.250000</td>\n",
              "      <td>4.000000</td>\n",
              "      <td>4.000000</td>\n",
              "      <td>5.000000</td>\n",
              "      <td>5.000000</td>\n",
              "      <td>6.000000</td>\n",
              "      <td>2.000000</td>\n",
              "    </tr>\n",
              "    <tr>\n",
              "      <th>max</th>\n",
              "      <td>1275.000000</td>\n",
              "      <td>16.000000</td>\n",
              "      <td>16.000000</td>\n",
              "      <td>5.000000</td>\n",
              "      <td>16.000000</td>\n",
              "      <td>14.000000</td>\n",
              "      <td>3.000000</td>\n",
              "    </tr>\n",
              "  </tbody>\n",
              "</table>\n",
              "</div>\n",
              "      <button class=\"colab-df-convert\" onclick=\"convertToInteractive('df-ac1d192e-9801-44b3-a825-cb72cef3cb37')\"\n",
              "              title=\"Convert this dataframe to an interactive table.\"\n",
              "              style=\"display:none;\">\n",
              "        \n",
              "  <svg xmlns=\"http://www.w3.org/2000/svg\" height=\"24px\"viewBox=\"0 0 24 24\"\n",
              "       width=\"24px\">\n",
              "    <path d=\"M0 0h24v24H0V0z\" fill=\"none\"/>\n",
              "    <path d=\"M18.56 5.44l.94 2.06.94-2.06 2.06-.94-2.06-.94-.94-2.06-.94 2.06-2.06.94zm-11 1L8.5 8.5l.94-2.06 2.06-.94-2.06-.94L8.5 2.5l-.94 2.06-2.06.94zm10 10l.94 2.06.94-2.06 2.06-.94-2.06-.94-.94-2.06-.94 2.06-2.06.94z\"/><path d=\"M17.41 7.96l-1.37-1.37c-.4-.4-.92-.59-1.43-.59-.52 0-1.04.2-1.43.59L10.3 9.45l-7.72 7.72c-.78.78-.78 2.05 0 2.83L4 21.41c.39.39.9.59 1.41.59.51 0 1.02-.2 1.41-.59l7.78-7.78 2.81-2.81c.8-.78.8-2.07 0-2.86zM5.41 20L4 18.59l7.72-7.72 1.47 1.35L5.41 20z\"/>\n",
              "  </svg>\n",
              "      </button>\n",
              "      \n",
              "  <style>\n",
              "    .colab-df-container {\n",
              "      display:flex;\n",
              "      flex-wrap:wrap;\n",
              "      gap: 12px;\n",
              "    }\n",
              "\n",
              "    .colab-df-convert {\n",
              "      background-color: #E8F0FE;\n",
              "      border: none;\n",
              "      border-radius: 50%;\n",
              "      cursor: pointer;\n",
              "      display: none;\n",
              "      fill: #1967D2;\n",
              "      height: 32px;\n",
              "      padding: 0 0 0 0;\n",
              "      width: 32px;\n",
              "    }\n",
              "\n",
              "    .colab-df-convert:hover {\n",
              "      background-color: #E2EBFA;\n",
              "      box-shadow: 0px 1px 2px rgba(60, 64, 67, 0.3), 0px 1px 3px 1px rgba(60, 64, 67, 0.15);\n",
              "      fill: #174EA6;\n",
              "    }\n",
              "\n",
              "    [theme=dark] .colab-df-convert {\n",
              "      background-color: #3B4455;\n",
              "      fill: #D2E3FC;\n",
              "    }\n",
              "\n",
              "    [theme=dark] .colab-df-convert:hover {\n",
              "      background-color: #434B5C;\n",
              "      box-shadow: 0px 1px 3px 1px rgba(0, 0, 0, 0.15);\n",
              "      filter: drop-shadow(0px 1px 2px rgba(0, 0, 0, 0.3));\n",
              "      fill: #FFFFFF;\n",
              "    }\n",
              "  </style>\n",
              "\n",
              "      <script>\n",
              "        const buttonEl =\n",
              "          document.querySelector('#df-ac1d192e-9801-44b3-a825-cb72cef3cb37 button.colab-df-convert');\n",
              "        buttonEl.style.display =\n",
              "          google.colab.kernel.accessAllowed ? 'block' : 'none';\n",
              "\n",
              "        async function convertToInteractive(key) {\n",
              "          const element = document.querySelector('#df-ac1d192e-9801-44b3-a825-cb72cef3cb37');\n",
              "          const dataTable =\n",
              "            await google.colab.kernel.invokeFunction('convertToInteractive',\n",
              "                                                     [key], {});\n",
              "          if (!dataTable) return;\n",
              "\n",
              "          const docLinkHtml = 'Like what you see? Visit the ' +\n",
              "            '<a target=\"_blank\" href=https://colab.research.google.com/notebooks/data_table.ipynb>data table notebook</a>'\n",
              "            + ' to learn more about interactive tables.';\n",
              "          element.innerHTML = '';\n",
              "          dataTable['output_type'] = 'display_data';\n",
              "          await google.colab.output.renderOutput(dataTable, element);\n",
              "          const docLink = document.createElement('div');\n",
              "          docLink.innerHTML = docLinkHtml;\n",
              "          element.appendChild(docLink);\n",
              "        }\n",
              "      </script>\n",
              "    </div>\n",
              "  </div>\n",
              "  "
            ]
          },
          "metadata": {},
          "execution_count": 75
        }
      ]
    },
    {
      "cell_type": "code",
      "source": [
        "data['Ex-Showroom_Price'].describe()"
      ],
      "metadata": {
        "colab": {
          "base_uri": "https://localhost:8080/"
        },
        "id": "i6mAt9Jpn0cW",
        "outputId": "8c003590-1b1d-459b-cf21-eb25fd8015cd"
      },
      "execution_count": null,
      "outputs": [
        {
          "output_type": "execute_result",
          "data": {
            "text/plain": [
              "count             1276\n",
              "unique            1179\n",
              "top       Rs. 9,99,900\n",
              "freq                14\n",
              "Name: Ex-Showroom_Price, dtype: object"
            ]
          },
          "metadata": {},
          "execution_count": 76
        }
      ]
    },
    {
      "cell_type": "code",
      "source": [
        ""
      ],
      "metadata": {
        "id": "KOtW7fHiG7-J"
      },
      "execution_count": null,
      "outputs": []
    },
    {
      "cell_type": "code",
      "source": [
        "#data= data['Ex-Showroom_Price'].replace({'\\Rs.':''})\n",
        "#data['Ex-Showroom_Price'] = data['Ex-Showroom_Price'].str.replace({'\\d+': ''}, regex=True)\n",
        "#print (data)\n",
        "# for i = 1 to rows.count\n",
        "\n",
        "# next i\n",
        "\n",
        "Showroom_Price = []\n",
        "\n",
        "for var in data['Ex-Showroom_Price'] :\n",
        "  # var = var.split(' ')[-1]\n",
        "  ls = var.split(' ')[-1].split(',')\n",
        "  # print(ls)\n",
        "  ruppees_modified = ''\n",
        "  for i in range(len(ls)):\n",
        "    ruppees_modified = ruppees_modified + ls[i]\n",
        "  # print(ruppees_modified)\n",
        "  Showroom_Price.append(ruppees_modified)\n",
        "print(Showroom_Price)  \n",
        "\n",
        "for i in range(len(data['Ex-Showroom_Price'])):\n",
        "  data['Ex-Showroom_Price'][i] = int(Showroom_Price[i])\n",
        "\n",
        "data.head()\n"
      ],
      "metadata": {
        "colab": {
          "base_uri": "https://localhost:8080/",
          "height": 577
        },
        "id": "YZc1Ix-IogFU",
        "outputId": "009ad760-068c-406b-e2a5-f9be892dc4c1"
      },
      "execution_count": null,
      "outputs": [
        {
          "output_type": "stream",
          "name": "stderr",
          "text": [
            "/usr/local/lib/python3.7/dist-packages/ipykernel_launcher.py:22: SettingWithCopyWarning: \n",
            "A value is trying to be set on a copy of a slice from a DataFrame\n",
            "\n",
            "See the caveats in the documentation: https://pandas.pydata.org/pandas-docs/stable/user_guide/indexing.html#returning-a-view-versus-a-copy\n"
          ]
        },
        {
          "output_type": "stream",
          "name": "stdout",
          "text": [
            "['292667', '236447', '296661', '334768', '272223', '314815', '279650', '351832', '333419', '362000', '390000', '437065', '353290', '283290', '383290', '413290', '433290', '454490', '463290', '484490', '440990', '470990', '462190', '492190', '352136', '380573', '392967', '466057', '425255', '377588', '394036', '360843', '407238', '439777', '438559', '374990', '468229', '502492', '499990', '469990', '528464', '553015', '594464', '618015', '422444', '480670', '429990', '503990', '547990', '530990', '512990', '578990', '570990', '556490', '460000', '520000', '570000', '599000', '610000', '620000', '649000', '660000', '481074', '475198', '518198', '524074', '499734', '540350', '542735', '552350', '713898', '666898', '607841', '560841', '483320', '630320', '583320', '495000', '559000', '609000', '663000', '506000', '568623', '670000', '603000', '739000', '739000', '520300', '581000', '647800', '630000', '745000', '704000', '597700', '720700', '641700', '756700', '558400', '686000', '662700', '777700', '525021', '599950', '563133', '787980', '661111', '693798', '719661', '674960', '529035', '590268', '614515', '556130', '536859', '556130', '536859', '639616', '620297', '653523', '553423', '598940', '559693', '697803', '634950', '770803', '721693', '876103', '808993', '934003', '920993', '751693', '831693', '846103', '579900', '655900', '705800', '729900', '804800', '785900', '728900', '854900', '773800', '823700', '922700', '903800', '582000', '676500', '776500', '734500', '851500', '931500', '976000', '988500', '582613', '673112', '666622', '732113', '757622', '720112', '863122', '816622', '821613', '779113', '868613', '906122', '804622', '952622', '676400', '790900', '836400', '591400', '721400', '756400', '681400', '745900', '711500', '810500', '999900', '925500', '594000', '665000', '799900', '999900', '598500', '697400', '663400', '699400', '737400', '777400', '817400', '862400', '782400', '737400', '758314', '762400', '842400', '627100', '718600', '734700', '828600', '888400', '778400', '689600', '799600', '913400', '803400', '802000', '650000', '797500', '766000', '668500', '816000', '657628', '685729', '750428', '677618', '739074', '977516', '810211', '721900', '758200', '829900', '890200', '697900', '796132', '711801', '876341', '745000', '909000', '789000', '865000', '816500', '896500', '940500', '928000', '2680000', '2760000', '2734834', '2931534', '2770150', '3070150', '2814500', '3153500', '2827001', '3067001', '3277001', '2899599', '3149599', '3021200', '3221200', '2920750', '3120750', '2988311', '3089851', '3198662', '3303282', '3599000', '3172000', '3699000', '3299599', '3678599', '3299599', '3407407', '3677200', '3992200', '4361000', '3496750', '3600000', '3830000', '3990000', '4390000', '3990000', '4120000', '4149000', '4507000', '4350000', '4498000', '4498000', '4633000', '4633000', '5436329', '6073446', '6138811', '5506622', '4977080', '5038000', '5442200', '5942200', '5930000', '5880000', '5600000', '5706000', '6089000', '5890000', '7243000', '7330000', '8290000', '8290000', '7462000', '7882867', '8931819', '11400000', '7515000', '7711338', '8180000', '8995000', '8595000', '8820000', '19199181', '8776900', '8690000', '8690000', '9630000', '9900000', '11141200', '12290000', '13200000', '13510000', '13510000', '16500000', '24250000', '13359500', '13558438', '13976653', '25500000', '14512054', '14863774', '15383399', '21875136', '15000000', '15600000', '17229579', '17900000', '19600000', '27308312', '19890000', '21263000', '22613000', '21747000', '23290000', '23491293', '27245000', '30000000', '33791059', '35000000', '45941557', '37542069', '40456503', '42531500', '46709733', '53247201', '50025840', '52571294', '69500000', '77312661', '192142937', '212155397', '263000', '283000', '294800', '299900', '352900', '357200', '376100', '405570', '409190', '389600', '370500', '376500', '409000', '415000', '432500', '438500', '475500', '456000', '481500', '499000', '426289', '465138', '508138', '490924', '531279', '530000', '533924', '434659', '472257', '515257', '543279', '551530', '568930', '460369', '477511', '545946', '528804', '488194', '532184', '590798', '619243', '667273', '579645', '631144', '754548', '693550', '787304', '701045', '794800', '573250', '631146', '687175', '660832', '748128', '780884', '550155', '559741', '524312', '542913', '519000', '619000', '666000', '678000', '725000', '758000', '599000', '698000', '745000', '757000', '804000', '838000', '802000', '884000', '529000', '615000', '684000', '744000', '769000', '699000', '775000', '844000', '904000', '929000', '642478', '589678', '689761', '788177', '2650777', '628072', '900967', '1465148', '552890', '927689', '835275', '575000', '610000', '650000', '699000', '660000', '749000', '582287', '702946', '653926', '672641', '732475', '767317', '793898', '855362', '836320', '989000', '788797', '763000', '705000', '593000', '865000', '823000', '925000', '785000', '893000', '845000', '781000', '733000', '673000', '906000', '794000', '966000', '864000', '979300', '877300', '906300', '794300', '637343', '622730', '655000', '826000', '780000', '959000', '974000', '1065000', '940000', '1115500', '725000', '850000', '983000', '998000', '1089000', '695000', '770000', '870000', '950000', '970000', '1040000', '1060000', '830000', '1010000', '1030000', '1100000', '1120000', '845000', '920000', '1020000', '1100000', '1120000', '1190000', '1210000', '980000', '1160000', '1180000', '1250000', '1270000', '715860', '862175', '932025', '991434', '997763', '886398', '851302', '785656', '749192', '859497', '819117', '762742', '814742', '892243', '987743', '1003552', '1037742', '864742', '942243', '1059742', '774035', '858536', '882298', '993393', '791000', '871000', '950000', '1130000', '841000', '921000', '999900', '1090000', '999900', '1145000', '999900', '1090000', '799990', '919990', '999990', '929990', '999990', '1119990', '1209990', '1249990', '1249990', '999900', '1172544', '1301881', '1172999', '1328545', '1287999', '933182', '817867', '1178894', '1162875', '1407871', '942867', '999900', '830127', '915128', '1060129', '1184129', '869131', '950131', '1095129', '1214130', '1149800', '1269131', '999000', '863299', '964199', '1211599', '1211599', '1053899', '1130099', '964199', '876500', '999900', '999900', '1197500', '1449500', '958500', '999900', '1210500', '1336500', '1317500', '1449500', '1317500', '881425', '957177', '960868', '975868', '944175', '952900', '1052900', '1167900', '1271900', '1285900', '1187900', '1273900', '1382900', '959860', '999148', '974860', '999000', '1075000', '1299000', '1330000', '975000', '1225000', '984689', '1041189', '1094689', '1151189', '989219', '992748', '1029650', '1142157', '999900', '1156471', '1308592', '1468440', '999900', '1164569', '1316690', '1476538', '999994', '1236258', '1123158', '1220030', '1330006', '1360668', '1540081', '1663054', '1423710', '1425599', '1269599', '1299599', '1139599', '1610180', '1418313', '1539488', '1588943', '1710118', '1716319', '1837586', '1741319', '1862586', '1610180', '1418313', '1539488', '1588943', '1710118', '1716319', '1837586', '1741319', '1862586', '1852488', '1973664', '1230924', '1293214', '1267208', '1303241', '1639374', '1929417', '1912593', '1796458', '1371864', '1531377', '1655587', '1605000', '1927000', '1610000', '1932000', '2113000', '1620000', '1615000', '2103000', '1807000', '1493000', '1498000', '2097000', '1892000', '2171000', '1592000', '1587000', '1996000', '1560000', '2055000', '1661000', '1803000', '1888000', '1973000', '2022000', '2151000', '2199000', '2167000', '2133000', '2311000', '1699000', '1599000', '1900000', '2070000', '2036300', '2214000', '2499000', '2196000', '1645000', '1806000', '1882000', '1936000', '1771000', '2019000', '1793900', '1944900', '2124900', '2054900', '2234900', '2088000', '2358000', '2495000', '2515000', '2895000', '2995000', '3395000', '2599599', '2779599', '3099599', '3349599', '3029599', '2599599', '2849599', '2769000', '3191000', '3205000', '3019000', '3216000', '3395000', '2977000', '2818000', '3420000', '3470000', '3233000', '2920000', '2990000', '3420000', '3399000', '3520000', '3930000', '4570000', '4240000', '3830000', '5602000', '3850500', '4140000', '4690000', '4790000', '4426500', '5021200', '5621200', '5021200', '5621200', '5494000', '5985000', '5494000', '5985000', '5861062', '7285332', '5964321', '15000000', '5750000', '6150000', '5850000', '6250000', '5990000', '6060000', '6590000', '6350000', '6394000', '6426497', '6490000', '7890000', '6840000', '8190000', '11000000', '7221500', '8021500', '6921500', '7621500', '8111500', '7711500', '6952964', '7246802', '7246802', '7500000', '8790000', '8090000', '13124000', '9665000', '8491500', '20517853', '8670586', '9448181', '11476911', '15600000', '13228725', '17940227', '10373732', '11913021', '14908985', '9738609', '10725145', '11129599', '15806000', '19210000', '11936000', '13387856', '13881858', '14247814', '14699000', '17072000', '26037526', '32522000', '19527130', '40499548', '18185267', '19527130', '25174051', '39294685', '23675691', '21398758', '19865675', '21583466', '23264134', '22733626', '24200000', '37133704', '32452486', '35150732', '37614126', '35535000', '40742932', '37300000', '41000000', '32200000', '36761413', '39319552', '42000000', '52000000', '47893943', '53210327', '47467700', '59216193', '83755383', '282778', '284485', '412292', '552656', '574448', '555196', '500575', '593361', '615153', '658361', '680153', '482330', '575947', '523000', '623000', '599900', '699900', '664900', '764900', '746621', '868221', '668611', '807921', '758212', '890212', '636612', '768612', '558602', '697912', '733412', '789912', '829912', '586428', '620637', '652328', '705538', '640537', '653452', '751203', '646336', '808558', '707025', '836461', '912534', '993997', '860997', '993997', '877285', '759000', '917000', '936000', '971000', '834000', '1013000', '986689', '1069689', '1120689', '887689', '788913', '1035000', '925000', '925000', '815000', '916050', '808050', '1048050', '935050', '995000', '854328', '914328', '976592', '999614', '1031943', '1022930', '1055259', '880689', '992689', '1043689', '1143689', '949999', '1049999', '1299999', '1199999', '963037', '1004487', '1031951', '1066139', '1228335', '989000', '1029000', '1149000', '1309000', '1409000', '1034000', '1154000', '1254000', '1354000', '1534000', '1634000', '1379000', '1529000', '1629000', '1629000', '1414000', '999900', '1464900', '999900', '1235700', '1419900', '1235700', '1109005', '1335158', '1479574', '1643829', '1248000', '1348000', '1448000', '1588000', '1728000', '1328000', '1388000', '1628000', '1498000', '1568000', '1718000', '1399000', '1499000', '1599000', '1589000', '1849000', '1949000', '2039000', '2079717', '1876656', '2364354', '2187384', '2697417', '2373522', '2246749', '2423720', '3021500', '3321500', '2599000', '2899000', '2785288', '2886871', '3283000', '2962000', '3490000', '3740000', '4140000', '4240000', '4020000', '4670000', '4974750', '7500000', '4090000', '4654000', '4509000', '5695000', '6060000', '5990000', '6463780', '6422809', '6531000', '6948200', '7370000', '12500000', '8470000', '10490000', '10250000', '13590000', '17420000', '18844000', '21240272', '29500000', '38845823', '52000000', '354235', '356559', '675090', '504990', '589610', '642610', '643350', '703350', '673350', '718950', '790350', '804450', '643769', '733734', '705546', '782346', '742033', '581078', '798558', '875358', '673261', '662880', '781686', '743504', '812964', '942263', '917055', '860720', '815883', '773678', '1102689', '919689', '980689', '1062689', '819689', '881689', '958689', '997689', '980689', '1058688', '1098689', '1138189', '997689', '1109189', '998599', '1006139', '881916', '1129599', '1249599', '1243599', '1399599', '1273599', '1115599', '999599', '975599', '1099599', '1158599', '1273599', '980970', '999990', '999990', '1232534', '1394437', '1377363', '1287041', '1197919', '1366797', '1543564', '1527395', '1421208', '1336033', '1422937', '1572064', '1107167', '1092192', '1279983', '1414247', '1345363', '1471368', '1591368', '1721368', '1732231', '1730755', '1654783', '1806813', '1999000', '2693000', '3438000', '3233000', '3564000', '7784944', '3864000', '8067000', '4321237', '5930000', '6680000', '5980000', '6890000', '7450000', '6440000', '6440000', '8503000', '6998000', '23659454', '22155390', '26501830', '28004965', '9092578', '10144987', '10419200', '9366433', '15490000', '23290000', '43367500', '479000', '526000', '548000', '434000', '513501', '560500', '594800', '441000', '486001', '520500', '567500', '533000', '500500', '507500', '594993', '689993', '639993', '797802', '905642', '984818', '832415', '972359', '1048603', '955000', '1095000', '1109000', '1251000', '1369000', '1465000', '1465000', '989000', '1205000', '2371858', '3788000', '6061200', '10205494', '9689321', '8433741', '8077550', '8877094', '7693664', '10861088', '8937846', '18221000', '18736000', '19371000', '95000000', '75400000', '535562', '631292', '692655', '747774', '940000', '1055000', '1174000', '1418000', '1175000', '1010000', '1294000', '1296000', '1197000', '876000', '974000', '935000', '1083000', '1317000', '1599599', '1799599', '1899599', '2059599', '2079599', '2299599', '2359599', '2359599', '1549000', '1699000', '1999599', '2199599', '5275000', '5775000', '13151000', '19763000', '748370', '772617', '845154', '2903750', '2835500', '2953240', '2992800', '2952500', '34167064', '39382083', '991000', '1065900', '1182000', '1312000', '1111000', '1191000', '1302000', '1421000', '1431000', '1201000', '6862560']\n"
          ]
        },
        {
          "output_type": "execute_result",
          "data": {
            "text/plain": [
              "   index  Make      Model  Variant Ex-Showroom_Price Displacement  Cylinders  \\\n",
              "0      0  Tata  Nano Genx       Xt            292667       624 cc        2.0   \n",
              "1      1  Tata  Nano Genx       Xe            236447       624 cc        2.0   \n",
              "2      2  Tata  Nano Genx  Emax Xm            296661       624 cc        2.0   \n",
              "3      3  Tata  Nano Genx      Xta            334768       624 cc        2.0   \n",
              "4      4  Tata  Nano Genx       Xm            272223       624 cc        2.0   \n",
              "\n",
              "   Valves_Per_Cylinder              Drivetrain Cylinder_Configuration  ...  \\\n",
              "0                  2.0  RWD (Rear Wheel Drive)                In-line  ...   \n",
              "1                  2.0  RWD (Rear Wheel Drive)                In-line  ...   \n",
              "2                  2.0  RWD (Rear Wheel Drive)                In-line  ...   \n",
              "3                  2.0  RWD (Rear Wheel Drive)                In-line  ...   \n",
              "4                  2.0  RWD (Rear Wheel Drive)                In-line  ...   \n",
              "\n",
              "  Paddle_Shifters Automatic_Headlamps Engine_Type ASR_/_Traction_Control  \\\n",
              "0             NaN                 NaN         NaN                    NaN   \n",
              "1             NaN                 NaN         NaN                    NaN   \n",
              "2             NaN                 NaN         NaN                    NaN   \n",
              "3             NaN                 NaN         NaN                    NaN   \n",
              "4             NaN                 NaN         NaN                    NaN   \n",
              "\n",
              "  Cruise_Control USB_Ports Heads-Up_Display Welcome_Lights Battery  \\\n",
              "0            NaN       NaN              NaN            NaN     NaN   \n",
              "1            NaN       NaN              NaN            NaN     NaN   \n",
              "2            NaN       NaN              NaN            NaN     NaN   \n",
              "3            NaN       NaN              NaN            NaN     NaN   \n",
              "4            NaN       NaN              NaN            NaN     NaN   \n",
              "\n",
              "   Electric_Range  \n",
              "0             NaN  \n",
              "1             NaN  \n",
              "2             NaN  \n",
              "3             NaN  \n",
              "4             NaN  \n",
              "\n",
              "[5 rows x 140 columns]"
            ],
            "text/html": [
              "\n",
              "  <div id=\"df-677e8feb-4058-491b-856b-31ab07b3dd44\">\n",
              "    <div class=\"colab-df-container\">\n",
              "      <div>\n",
              "<style scoped>\n",
              "    .dataframe tbody tr th:only-of-type {\n",
              "        vertical-align: middle;\n",
              "    }\n",
              "\n",
              "    .dataframe tbody tr th {\n",
              "        vertical-align: top;\n",
              "    }\n",
              "\n",
              "    .dataframe thead th {\n",
              "        text-align: right;\n",
              "    }\n",
              "</style>\n",
              "<table border=\"1\" class=\"dataframe\">\n",
              "  <thead>\n",
              "    <tr style=\"text-align: right;\">\n",
              "      <th></th>\n",
              "      <th>index</th>\n",
              "      <th>Make</th>\n",
              "      <th>Model</th>\n",
              "      <th>Variant</th>\n",
              "      <th>Ex-Showroom_Price</th>\n",
              "      <th>Displacement</th>\n",
              "      <th>Cylinders</th>\n",
              "      <th>Valves_Per_Cylinder</th>\n",
              "      <th>Drivetrain</th>\n",
              "      <th>Cylinder_Configuration</th>\n",
              "      <th>...</th>\n",
              "      <th>Paddle_Shifters</th>\n",
              "      <th>Automatic_Headlamps</th>\n",
              "      <th>Engine_Type</th>\n",
              "      <th>ASR_/_Traction_Control</th>\n",
              "      <th>Cruise_Control</th>\n",
              "      <th>USB_Ports</th>\n",
              "      <th>Heads-Up_Display</th>\n",
              "      <th>Welcome_Lights</th>\n",
              "      <th>Battery</th>\n",
              "      <th>Electric_Range</th>\n",
              "    </tr>\n",
              "  </thead>\n",
              "  <tbody>\n",
              "    <tr>\n",
              "      <th>0</th>\n",
              "      <td>0</td>\n",
              "      <td>Tata</td>\n",
              "      <td>Nano Genx</td>\n",
              "      <td>Xt</td>\n",
              "      <td>292667</td>\n",
              "      <td>624 cc</td>\n",
              "      <td>2.0</td>\n",
              "      <td>2.0</td>\n",
              "      <td>RWD (Rear Wheel Drive)</td>\n",
              "      <td>In-line</td>\n",
              "      <td>...</td>\n",
              "      <td>NaN</td>\n",
              "      <td>NaN</td>\n",
              "      <td>NaN</td>\n",
              "      <td>NaN</td>\n",
              "      <td>NaN</td>\n",
              "      <td>NaN</td>\n",
              "      <td>NaN</td>\n",
              "      <td>NaN</td>\n",
              "      <td>NaN</td>\n",
              "      <td>NaN</td>\n",
              "    </tr>\n",
              "    <tr>\n",
              "      <th>1</th>\n",
              "      <td>1</td>\n",
              "      <td>Tata</td>\n",
              "      <td>Nano Genx</td>\n",
              "      <td>Xe</td>\n",
              "      <td>236447</td>\n",
              "      <td>624 cc</td>\n",
              "      <td>2.0</td>\n",
              "      <td>2.0</td>\n",
              "      <td>RWD (Rear Wheel Drive)</td>\n",
              "      <td>In-line</td>\n",
              "      <td>...</td>\n",
              "      <td>NaN</td>\n",
              "      <td>NaN</td>\n",
              "      <td>NaN</td>\n",
              "      <td>NaN</td>\n",
              "      <td>NaN</td>\n",
              "      <td>NaN</td>\n",
              "      <td>NaN</td>\n",
              "      <td>NaN</td>\n",
              "      <td>NaN</td>\n",
              "      <td>NaN</td>\n",
              "    </tr>\n",
              "    <tr>\n",
              "      <th>2</th>\n",
              "      <td>2</td>\n",
              "      <td>Tata</td>\n",
              "      <td>Nano Genx</td>\n",
              "      <td>Emax Xm</td>\n",
              "      <td>296661</td>\n",
              "      <td>624 cc</td>\n",
              "      <td>2.0</td>\n",
              "      <td>2.0</td>\n",
              "      <td>RWD (Rear Wheel Drive)</td>\n",
              "      <td>In-line</td>\n",
              "      <td>...</td>\n",
              "      <td>NaN</td>\n",
              "      <td>NaN</td>\n",
              "      <td>NaN</td>\n",
              "      <td>NaN</td>\n",
              "      <td>NaN</td>\n",
              "      <td>NaN</td>\n",
              "      <td>NaN</td>\n",
              "      <td>NaN</td>\n",
              "      <td>NaN</td>\n",
              "      <td>NaN</td>\n",
              "    </tr>\n",
              "    <tr>\n",
              "      <th>3</th>\n",
              "      <td>3</td>\n",
              "      <td>Tata</td>\n",
              "      <td>Nano Genx</td>\n",
              "      <td>Xta</td>\n",
              "      <td>334768</td>\n",
              "      <td>624 cc</td>\n",
              "      <td>2.0</td>\n",
              "      <td>2.0</td>\n",
              "      <td>RWD (Rear Wheel Drive)</td>\n",
              "      <td>In-line</td>\n",
              "      <td>...</td>\n",
              "      <td>NaN</td>\n",
              "      <td>NaN</td>\n",
              "      <td>NaN</td>\n",
              "      <td>NaN</td>\n",
              "      <td>NaN</td>\n",
              "      <td>NaN</td>\n",
              "      <td>NaN</td>\n",
              "      <td>NaN</td>\n",
              "      <td>NaN</td>\n",
              "      <td>NaN</td>\n",
              "    </tr>\n",
              "    <tr>\n",
              "      <th>4</th>\n",
              "      <td>4</td>\n",
              "      <td>Tata</td>\n",
              "      <td>Nano Genx</td>\n",
              "      <td>Xm</td>\n",
              "      <td>272223</td>\n",
              "      <td>624 cc</td>\n",
              "      <td>2.0</td>\n",
              "      <td>2.0</td>\n",
              "      <td>RWD (Rear Wheel Drive)</td>\n",
              "      <td>In-line</td>\n",
              "      <td>...</td>\n",
              "      <td>NaN</td>\n",
              "      <td>NaN</td>\n",
              "      <td>NaN</td>\n",
              "      <td>NaN</td>\n",
              "      <td>NaN</td>\n",
              "      <td>NaN</td>\n",
              "      <td>NaN</td>\n",
              "      <td>NaN</td>\n",
              "      <td>NaN</td>\n",
              "      <td>NaN</td>\n",
              "    </tr>\n",
              "  </tbody>\n",
              "</table>\n",
              "<p>5 rows × 140 columns</p>\n",
              "</div>\n",
              "      <button class=\"colab-df-convert\" onclick=\"convertToInteractive('df-677e8feb-4058-491b-856b-31ab07b3dd44')\"\n",
              "              title=\"Convert this dataframe to an interactive table.\"\n",
              "              style=\"display:none;\">\n",
              "        \n",
              "  <svg xmlns=\"http://www.w3.org/2000/svg\" height=\"24px\"viewBox=\"0 0 24 24\"\n",
              "       width=\"24px\">\n",
              "    <path d=\"M0 0h24v24H0V0z\" fill=\"none\"/>\n",
              "    <path d=\"M18.56 5.44l.94 2.06.94-2.06 2.06-.94-2.06-.94-.94-2.06-.94 2.06-2.06.94zm-11 1L8.5 8.5l.94-2.06 2.06-.94-2.06-.94L8.5 2.5l-.94 2.06-2.06.94zm10 10l.94 2.06.94-2.06 2.06-.94-2.06-.94-.94-2.06-.94 2.06-2.06.94z\"/><path d=\"M17.41 7.96l-1.37-1.37c-.4-.4-.92-.59-1.43-.59-.52 0-1.04.2-1.43.59L10.3 9.45l-7.72 7.72c-.78.78-.78 2.05 0 2.83L4 21.41c.39.39.9.59 1.41.59.51 0 1.02-.2 1.41-.59l7.78-7.78 2.81-2.81c.8-.78.8-2.07 0-2.86zM5.41 20L4 18.59l7.72-7.72 1.47 1.35L5.41 20z\"/>\n",
              "  </svg>\n",
              "      </button>\n",
              "      \n",
              "  <style>\n",
              "    .colab-df-container {\n",
              "      display:flex;\n",
              "      flex-wrap:wrap;\n",
              "      gap: 12px;\n",
              "    }\n",
              "\n",
              "    .colab-df-convert {\n",
              "      background-color: #E8F0FE;\n",
              "      border: none;\n",
              "      border-radius: 50%;\n",
              "      cursor: pointer;\n",
              "      display: none;\n",
              "      fill: #1967D2;\n",
              "      height: 32px;\n",
              "      padding: 0 0 0 0;\n",
              "      width: 32px;\n",
              "    }\n",
              "\n",
              "    .colab-df-convert:hover {\n",
              "      background-color: #E2EBFA;\n",
              "      box-shadow: 0px 1px 2px rgba(60, 64, 67, 0.3), 0px 1px 3px 1px rgba(60, 64, 67, 0.15);\n",
              "      fill: #174EA6;\n",
              "    }\n",
              "\n",
              "    [theme=dark] .colab-df-convert {\n",
              "      background-color: #3B4455;\n",
              "      fill: #D2E3FC;\n",
              "    }\n",
              "\n",
              "    [theme=dark] .colab-df-convert:hover {\n",
              "      background-color: #434B5C;\n",
              "      box-shadow: 0px 1px 3px 1px rgba(0, 0, 0, 0.15);\n",
              "      filter: drop-shadow(0px 1px 2px rgba(0, 0, 0, 0.3));\n",
              "      fill: #FFFFFF;\n",
              "    }\n",
              "  </style>\n",
              "\n",
              "      <script>\n",
              "        const buttonEl =\n",
              "          document.querySelector('#df-677e8feb-4058-491b-856b-31ab07b3dd44 button.colab-df-convert');\n",
              "        buttonEl.style.display =\n",
              "          google.colab.kernel.accessAllowed ? 'block' : 'none';\n",
              "\n",
              "        async function convertToInteractive(key) {\n",
              "          const element = document.querySelector('#df-677e8feb-4058-491b-856b-31ab07b3dd44');\n",
              "          const dataTable =\n",
              "            await google.colab.kernel.invokeFunction('convertToInteractive',\n",
              "                                                     [key], {});\n",
              "          if (!dataTable) return;\n",
              "\n",
              "          const docLinkHtml = 'Like what you see? Visit the ' +\n",
              "            '<a target=\"_blank\" href=https://colab.research.google.com/notebooks/data_table.ipynb>data table notebook</a>'\n",
              "            + ' to learn more about interactive tables.';\n",
              "          element.innerHTML = '';\n",
              "          dataTable['output_type'] = 'display_data';\n",
              "          await google.colab.output.renderOutput(dataTable, element);\n",
              "          const docLink = document.createElement('div');\n",
              "          docLink.innerHTML = docLinkHtml;\n",
              "          element.appendChild(docLink);\n",
              "        }\n",
              "      </script>\n",
              "    </div>\n",
              "  </div>\n",
              "  "
            ]
          },
          "metadata": {},
          "execution_count": 77
        }
      ]
    },
    {
      "cell_type": "markdown",
      "source": [
        ""
      ],
      "metadata": {
        "id": "F6sYnbs5rk2R"
      }
    },
    {
      "cell_type": "code",
      "source": [
        "data['Ex-Showroom_Price'].mean()"
      ],
      "metadata": {
        "id": "JMDhu49KoVOe",
        "colab": {
          "base_uri": "https://localhost:8080/"
        },
        "outputId": "55b0b9bc-bfe4-47cd-d132-71c0c16e8760"
      },
      "execution_count": null,
      "outputs": [
        {
          "output_type": "execute_result",
          "data": {
            "text/plain": [
              "4596537.887147335"
            ]
          },
          "metadata": {},
          "execution_count": 78
        }
      ]
    },
    {
      "cell_type": "code",
      "source": [
        "corr=data.corr()\n",
        "corr\n"
      ],
      "metadata": {
        "id": "-Usj4MadyDqM",
        "colab": {
          "base_uri": "https://localhost:8080/",
          "height": 259
        },
        "outputId": "61d522e6-11b8-4558-daa1-b392fdc84cb6"
      },
      "execution_count": null,
      "outputs": [
        {
          "output_type": "execute_result",
          "data": {
            "text/plain": [
              "                     index  Cylinders  Valves_Per_Cylinder  Doors  \\\n",
              "index                  NaN        NaN                  NaN    NaN   \n",
              "Cylinders              NaN        NaN                  NaN    NaN   \n",
              "Valves_Per_Cylinder    NaN        NaN                  NaN    NaN   \n",
              "Doors                  NaN        NaN                  NaN    NaN   \n",
              "Seating_Capacity       NaN        NaN                  NaN    NaN   \n",
              "Number_of_Airbags      NaN        NaN                  NaN    NaN   \n",
              "USB_Ports              NaN        NaN                  NaN    NaN   \n",
              "\n",
              "                     Seating_Capacity  Number_of_Airbags  USB_Ports  \n",
              "index                             NaN                NaN        NaN  \n",
              "Cylinders                         NaN                NaN        NaN  \n",
              "Valves_Per_Cylinder               NaN                NaN        NaN  \n",
              "Doors                             NaN                NaN        NaN  \n",
              "Seating_Capacity                  NaN                NaN        NaN  \n",
              "Number_of_Airbags                 NaN                NaN        NaN  \n",
              "USB_Ports                         NaN                NaN        NaN  "
            ],
            "text/html": [
              "\n",
              "  <div id=\"df-9bb9070e-68cd-40fe-9878-62482895665a\">\n",
              "    <div class=\"colab-df-container\">\n",
              "      <div>\n",
              "<style scoped>\n",
              "    .dataframe tbody tr th:only-of-type {\n",
              "        vertical-align: middle;\n",
              "    }\n",
              "\n",
              "    .dataframe tbody tr th {\n",
              "        vertical-align: top;\n",
              "    }\n",
              "\n",
              "    .dataframe thead th {\n",
              "        text-align: right;\n",
              "    }\n",
              "</style>\n",
              "<table border=\"1\" class=\"dataframe\">\n",
              "  <thead>\n",
              "    <tr style=\"text-align: right;\">\n",
              "      <th></th>\n",
              "      <th>index</th>\n",
              "      <th>Cylinders</th>\n",
              "      <th>Valves_Per_Cylinder</th>\n",
              "      <th>Doors</th>\n",
              "      <th>Seating_Capacity</th>\n",
              "      <th>Number_of_Airbags</th>\n",
              "      <th>USB_Ports</th>\n",
              "    </tr>\n",
              "  </thead>\n",
              "  <tbody>\n",
              "    <tr>\n",
              "      <th>index</th>\n",
              "      <td>NaN</td>\n",
              "      <td>NaN</td>\n",
              "      <td>NaN</td>\n",
              "      <td>NaN</td>\n",
              "      <td>NaN</td>\n",
              "      <td>NaN</td>\n",
              "      <td>NaN</td>\n",
              "    </tr>\n",
              "    <tr>\n",
              "      <th>Cylinders</th>\n",
              "      <td>NaN</td>\n",
              "      <td>NaN</td>\n",
              "      <td>NaN</td>\n",
              "      <td>NaN</td>\n",
              "      <td>NaN</td>\n",
              "      <td>NaN</td>\n",
              "      <td>NaN</td>\n",
              "    </tr>\n",
              "    <tr>\n",
              "      <th>Valves_Per_Cylinder</th>\n",
              "      <td>NaN</td>\n",
              "      <td>NaN</td>\n",
              "      <td>NaN</td>\n",
              "      <td>NaN</td>\n",
              "      <td>NaN</td>\n",
              "      <td>NaN</td>\n",
              "      <td>NaN</td>\n",
              "    </tr>\n",
              "    <tr>\n",
              "      <th>Doors</th>\n",
              "      <td>NaN</td>\n",
              "      <td>NaN</td>\n",
              "      <td>NaN</td>\n",
              "      <td>NaN</td>\n",
              "      <td>NaN</td>\n",
              "      <td>NaN</td>\n",
              "      <td>NaN</td>\n",
              "    </tr>\n",
              "    <tr>\n",
              "      <th>Seating_Capacity</th>\n",
              "      <td>NaN</td>\n",
              "      <td>NaN</td>\n",
              "      <td>NaN</td>\n",
              "      <td>NaN</td>\n",
              "      <td>NaN</td>\n",
              "      <td>NaN</td>\n",
              "      <td>NaN</td>\n",
              "    </tr>\n",
              "    <tr>\n",
              "      <th>Number_of_Airbags</th>\n",
              "      <td>NaN</td>\n",
              "      <td>NaN</td>\n",
              "      <td>NaN</td>\n",
              "      <td>NaN</td>\n",
              "      <td>NaN</td>\n",
              "      <td>NaN</td>\n",
              "      <td>NaN</td>\n",
              "    </tr>\n",
              "    <tr>\n",
              "      <th>USB_Ports</th>\n",
              "      <td>NaN</td>\n",
              "      <td>NaN</td>\n",
              "      <td>NaN</td>\n",
              "      <td>NaN</td>\n",
              "      <td>NaN</td>\n",
              "      <td>NaN</td>\n",
              "      <td>NaN</td>\n",
              "    </tr>\n",
              "  </tbody>\n",
              "</table>\n",
              "</div>\n",
              "      <button class=\"colab-df-convert\" onclick=\"convertToInteractive('df-9bb9070e-68cd-40fe-9878-62482895665a')\"\n",
              "              title=\"Convert this dataframe to an interactive table.\"\n",
              "              style=\"display:none;\">\n",
              "        \n",
              "  <svg xmlns=\"http://www.w3.org/2000/svg\" height=\"24px\"viewBox=\"0 0 24 24\"\n",
              "       width=\"24px\">\n",
              "    <path d=\"M0 0h24v24H0V0z\" fill=\"none\"/>\n",
              "    <path d=\"M18.56 5.44l.94 2.06.94-2.06 2.06-.94-2.06-.94-.94-2.06-.94 2.06-2.06.94zm-11 1L8.5 8.5l.94-2.06 2.06-.94-2.06-.94L8.5 2.5l-.94 2.06-2.06.94zm10 10l.94 2.06.94-2.06 2.06-.94-2.06-.94-.94-2.06-.94 2.06-2.06.94z\"/><path d=\"M17.41 7.96l-1.37-1.37c-.4-.4-.92-.59-1.43-.59-.52 0-1.04.2-1.43.59L10.3 9.45l-7.72 7.72c-.78.78-.78 2.05 0 2.83L4 21.41c.39.39.9.59 1.41.59.51 0 1.02-.2 1.41-.59l7.78-7.78 2.81-2.81c.8-.78.8-2.07 0-2.86zM5.41 20L4 18.59l7.72-7.72 1.47 1.35L5.41 20z\"/>\n",
              "  </svg>\n",
              "      </button>\n",
              "      \n",
              "  <style>\n",
              "    .colab-df-container {\n",
              "      display:flex;\n",
              "      flex-wrap:wrap;\n",
              "      gap: 12px;\n",
              "    }\n",
              "\n",
              "    .colab-df-convert {\n",
              "      background-color: #E8F0FE;\n",
              "      border: none;\n",
              "      border-radius: 50%;\n",
              "      cursor: pointer;\n",
              "      display: none;\n",
              "      fill: #1967D2;\n",
              "      height: 32px;\n",
              "      padding: 0 0 0 0;\n",
              "      width: 32px;\n",
              "    }\n",
              "\n",
              "    .colab-df-convert:hover {\n",
              "      background-color: #E2EBFA;\n",
              "      box-shadow: 0px 1px 2px rgba(60, 64, 67, 0.3), 0px 1px 3px 1px rgba(60, 64, 67, 0.15);\n",
              "      fill: #174EA6;\n",
              "    }\n",
              "\n",
              "    [theme=dark] .colab-df-convert {\n",
              "      background-color: #3B4455;\n",
              "      fill: #D2E3FC;\n",
              "    }\n",
              "\n",
              "    [theme=dark] .colab-df-convert:hover {\n",
              "      background-color: #434B5C;\n",
              "      box-shadow: 0px 1px 3px 1px rgba(0, 0, 0, 0.15);\n",
              "      filter: drop-shadow(0px 1px 2px rgba(0, 0, 0, 0.3));\n",
              "      fill: #FFFFFF;\n",
              "    }\n",
              "  </style>\n",
              "\n",
              "      <script>\n",
              "        const buttonEl =\n",
              "          document.querySelector('#df-9bb9070e-68cd-40fe-9878-62482895665a button.colab-df-convert');\n",
              "        buttonEl.style.display =\n",
              "          google.colab.kernel.accessAllowed ? 'block' : 'none';\n",
              "\n",
              "        async function convertToInteractive(key) {\n",
              "          const element = document.querySelector('#df-9bb9070e-68cd-40fe-9878-62482895665a');\n",
              "          const dataTable =\n",
              "            await google.colab.kernel.invokeFunction('convertToInteractive',\n",
              "                                                     [key], {});\n",
              "          if (!dataTable) return;\n",
              "\n",
              "          const docLinkHtml = 'Like what you see? Visit the ' +\n",
              "            '<a target=\"_blank\" href=https://colab.research.google.com/notebooks/data_table.ipynb>data table notebook</a>'\n",
              "            + ' to learn more about interactive tables.';\n",
              "          element.innerHTML = '';\n",
              "          dataTable['output_type'] = 'display_data';\n",
              "          await google.colab.output.renderOutput(dataTable, element);\n",
              "          const docLink = document.createElement('div');\n",
              "          docLink.innerHTML = docLinkHtml;\n",
              "          element.appendChild(docLink);\n",
              "        }\n",
              "      </script>\n",
              "    </div>\n",
              "  </div>\n",
              "  "
            ]
          },
          "metadata": {},
          "execution_count": 29
        }
      ]
    },
    {
      "cell_type": "code",
      "source": [
        "data['Ex-Showroom_Price'].median()"
      ],
      "metadata": {
        "id": "mpUxyRVOeXdr",
        "colab": {
          "base_uri": "https://localhost:8080/"
        },
        "outputId": "c6ea55b8-ad9f-4ec5-9344-c87d591a4ef0"
      },
      "execution_count": null,
      "outputs": [
        {
          "output_type": "execute_result",
          "data": {
            "text/plain": [
              "1060064.5"
            ]
          },
          "metadata": {},
          "execution_count": 80
        }
      ]
    },
    {
      "cell_type": "code",
      "source": [
        "import matplotlib.pyplot as plt #lib for importing graphs\n",
        "\n",
        "\n",
        "data.plot('Ex-Showroom_Price','City_Mileage')\n",
        "plt.title('veichle price versus milage')\n",
        "\n"
      ],
      "metadata": {
        "id": "rwKlw2FMfQlB",
        "colab": {
          "base_uri": "https://localhost:8080/",
          "height": 380
        },
        "outputId": "071b28a2-fd04-4342-92ba-a8fae13999e8"
      },
      "execution_count": null,
      "outputs": [
        {
          "output_type": "error",
          "ename": "TypeError",
          "evalue": "ignored",
          "traceback": [
            "\u001b[0;31m---------------------------------------------------------------------------\u001b[0m",
            "\u001b[0;31mTypeError\u001b[0m                                 Traceback (most recent call last)",
            "\u001b[0;32m<ipython-input-81-827835f454f1>\u001b[0m in \u001b[0;36m<module>\u001b[0;34m()\u001b[0m\n\u001b[1;32m      2\u001b[0m \u001b[0;34m\u001b[0m\u001b[0m\n\u001b[1;32m      3\u001b[0m \u001b[0;34m\u001b[0m\u001b[0m\n\u001b[0;32m----> 4\u001b[0;31m \u001b[0mdata\u001b[0m\u001b[0;34m.\u001b[0m\u001b[0mplot\u001b[0m\u001b[0;34m(\u001b[0m\u001b[0;34m'Ex-Showroom_Price'\u001b[0m\u001b[0;34m,\u001b[0m\u001b[0;34m'City_Mileage'\u001b[0m\u001b[0;34m)\u001b[0m\u001b[0;34m\u001b[0m\u001b[0;34m\u001b[0m\u001b[0m\n\u001b[0m\u001b[1;32m      5\u001b[0m \u001b[0mplt\u001b[0m\u001b[0;34m.\u001b[0m\u001b[0mtitle\u001b[0m\u001b[0;34m(\u001b[0m\u001b[0;34m'veichle price versus milage'\u001b[0m\u001b[0;34m)\u001b[0m\u001b[0;34m\u001b[0m\u001b[0;34m\u001b[0m\u001b[0m\n\u001b[1;32m      6\u001b[0m \u001b[0;34m\u001b[0m\u001b[0m\n",
            "\u001b[0;32m/usr/local/lib/python3.7/dist-packages/pandas/plotting/_core.py\u001b[0m in \u001b[0;36m__call__\u001b[0;34m(self, *args, **kwargs)\u001b[0m\n\u001b[1;32m    970\u001b[0m                     \u001b[0mdata\u001b[0m\u001b[0;34m.\u001b[0m\u001b[0mcolumns\u001b[0m \u001b[0;34m=\u001b[0m \u001b[0mlabel_name\u001b[0m\u001b[0;34m\u001b[0m\u001b[0;34m\u001b[0m\u001b[0m\n\u001b[1;32m    971\u001b[0m \u001b[0;34m\u001b[0m\u001b[0m\n\u001b[0;32m--> 972\u001b[0;31m         \u001b[0;32mreturn\u001b[0m \u001b[0mplot_backend\u001b[0m\u001b[0;34m.\u001b[0m\u001b[0mplot\u001b[0m\u001b[0;34m(\u001b[0m\u001b[0mdata\u001b[0m\u001b[0;34m,\u001b[0m \u001b[0mkind\u001b[0m\u001b[0;34m=\u001b[0m\u001b[0mkind\u001b[0m\u001b[0;34m,\u001b[0m \u001b[0;34m**\u001b[0m\u001b[0mkwargs\u001b[0m\u001b[0;34m)\u001b[0m\u001b[0;34m\u001b[0m\u001b[0;34m\u001b[0m\u001b[0m\n\u001b[0m\u001b[1;32m    973\u001b[0m \u001b[0;34m\u001b[0m\u001b[0m\n\u001b[1;32m    974\u001b[0m     \u001b[0m__call__\u001b[0m\u001b[0;34m.\u001b[0m\u001b[0m__doc__\u001b[0m \u001b[0;34m=\u001b[0m \u001b[0m__doc__\u001b[0m\u001b[0;34m\u001b[0m\u001b[0;34m\u001b[0m\u001b[0m\n",
            "\u001b[0;32m/usr/local/lib/python3.7/dist-packages/pandas/plotting/_matplotlib/__init__.py\u001b[0m in \u001b[0;36mplot\u001b[0;34m(data, kind, **kwargs)\u001b[0m\n\u001b[1;32m     69\u001b[0m             \u001b[0mkwargs\u001b[0m\u001b[0;34m[\u001b[0m\u001b[0;34m\"ax\"\u001b[0m\u001b[0;34m]\u001b[0m \u001b[0;34m=\u001b[0m \u001b[0mgetattr\u001b[0m\u001b[0;34m(\u001b[0m\u001b[0max\u001b[0m\u001b[0;34m,\u001b[0m \u001b[0;34m\"left_ax\"\u001b[0m\u001b[0;34m,\u001b[0m \u001b[0max\u001b[0m\u001b[0;34m)\u001b[0m\u001b[0;34m\u001b[0m\u001b[0;34m\u001b[0m\u001b[0m\n\u001b[1;32m     70\u001b[0m     \u001b[0mplot_obj\u001b[0m \u001b[0;34m=\u001b[0m \u001b[0mPLOT_CLASSES\u001b[0m\u001b[0;34m[\u001b[0m\u001b[0mkind\u001b[0m\u001b[0;34m]\u001b[0m\u001b[0;34m(\u001b[0m\u001b[0mdata\u001b[0m\u001b[0;34m,\u001b[0m \u001b[0;34m**\u001b[0m\u001b[0mkwargs\u001b[0m\u001b[0;34m)\u001b[0m\u001b[0;34m\u001b[0m\u001b[0;34m\u001b[0m\u001b[0m\n\u001b[0;32m---> 71\u001b[0;31m     \u001b[0mplot_obj\u001b[0m\u001b[0;34m.\u001b[0m\u001b[0mgenerate\u001b[0m\u001b[0;34m(\u001b[0m\u001b[0;34m)\u001b[0m\u001b[0;34m\u001b[0m\u001b[0;34m\u001b[0m\u001b[0m\n\u001b[0m\u001b[1;32m     72\u001b[0m     \u001b[0mplot_obj\u001b[0m\u001b[0;34m.\u001b[0m\u001b[0mdraw\u001b[0m\u001b[0;34m(\u001b[0m\u001b[0;34m)\u001b[0m\u001b[0;34m\u001b[0m\u001b[0;34m\u001b[0m\u001b[0m\n\u001b[1;32m     73\u001b[0m     \u001b[0;32mreturn\u001b[0m \u001b[0mplot_obj\u001b[0m\u001b[0;34m.\u001b[0m\u001b[0mresult\u001b[0m\u001b[0;34m\u001b[0m\u001b[0;34m\u001b[0m\u001b[0m\n",
            "\u001b[0;32m/usr/local/lib/python3.7/dist-packages/pandas/plotting/_matplotlib/core.py\u001b[0m in \u001b[0;36mgenerate\u001b[0;34m(self)\u001b[0m\n\u001b[1;32m    284\u001b[0m     \u001b[0;32mdef\u001b[0m \u001b[0mgenerate\u001b[0m\u001b[0;34m(\u001b[0m\u001b[0mself\u001b[0m\u001b[0;34m)\u001b[0m\u001b[0;34m:\u001b[0m\u001b[0;34m\u001b[0m\u001b[0;34m\u001b[0m\u001b[0m\n\u001b[1;32m    285\u001b[0m         \u001b[0mself\u001b[0m\u001b[0;34m.\u001b[0m\u001b[0m_args_adjust\u001b[0m\u001b[0;34m(\u001b[0m\u001b[0;34m)\u001b[0m\u001b[0;34m\u001b[0m\u001b[0;34m\u001b[0m\u001b[0m\n\u001b[0;32m--> 286\u001b[0;31m         \u001b[0mself\u001b[0m\u001b[0;34m.\u001b[0m\u001b[0m_compute_plot_data\u001b[0m\u001b[0;34m(\u001b[0m\u001b[0;34m)\u001b[0m\u001b[0;34m\u001b[0m\u001b[0;34m\u001b[0m\u001b[0m\n\u001b[0m\u001b[1;32m    287\u001b[0m         \u001b[0mself\u001b[0m\u001b[0;34m.\u001b[0m\u001b[0m_setup_subplots\u001b[0m\u001b[0;34m(\u001b[0m\u001b[0;34m)\u001b[0m\u001b[0;34m\u001b[0m\u001b[0;34m\u001b[0m\u001b[0m\n\u001b[1;32m    288\u001b[0m         \u001b[0mself\u001b[0m\u001b[0;34m.\u001b[0m\u001b[0m_make_plot\u001b[0m\u001b[0;34m(\u001b[0m\u001b[0;34m)\u001b[0m\u001b[0;34m\u001b[0m\u001b[0;34m\u001b[0m\u001b[0m\n",
            "\u001b[0;32m/usr/local/lib/python3.7/dist-packages/pandas/plotting/_matplotlib/core.py\u001b[0m in \u001b[0;36m_compute_plot_data\u001b[0;34m(self)\u001b[0m\n\u001b[1;32m    451\u001b[0m         \u001b[0;31m# no non-numeric frames or series allowed\u001b[0m\u001b[0;34m\u001b[0m\u001b[0;34m\u001b[0m\u001b[0;34m\u001b[0m\u001b[0m\n\u001b[1;32m    452\u001b[0m         \u001b[0;32mif\u001b[0m \u001b[0mis_empty\u001b[0m\u001b[0;34m:\u001b[0m\u001b[0;34m\u001b[0m\u001b[0;34m\u001b[0m\u001b[0m\n\u001b[0;32m--> 453\u001b[0;31m             \u001b[0;32mraise\u001b[0m \u001b[0mTypeError\u001b[0m\u001b[0;34m(\u001b[0m\u001b[0;34m\"no numeric data to plot\"\u001b[0m\u001b[0;34m)\u001b[0m\u001b[0;34m\u001b[0m\u001b[0;34m\u001b[0m\u001b[0m\n\u001b[0m\u001b[1;32m    454\u001b[0m \u001b[0;34m\u001b[0m\u001b[0m\n\u001b[1;32m    455\u001b[0m         \u001b[0mself\u001b[0m\u001b[0;34m.\u001b[0m\u001b[0mdata\u001b[0m \u001b[0;34m=\u001b[0m \u001b[0mnumeric_data\u001b[0m\u001b[0;34m.\u001b[0m\u001b[0mapply\u001b[0m\u001b[0;34m(\u001b[0m\u001b[0mself\u001b[0m\u001b[0;34m.\u001b[0m\u001b[0m_convert_to_ndarray\u001b[0m\u001b[0;34m)\u001b[0m\u001b[0;34m\u001b[0m\u001b[0;34m\u001b[0m\u001b[0m\n",
            "\u001b[0;31mTypeError\u001b[0m: no numeric data to plot"
          ]
        }
      ]
    },
    {
      "cell_type": "code",
      "source": [
        "# print(data.isna().sum())\n",
        "\n",
        "for col in data:\n",
        "  if(data[col].isna().sum() > 100):\n",
        "    data.drop(f'{col}',inplace=True,axis=1)\n",
        "    print(f'{col}')\n"
      ],
      "metadata": {
        "id": "HAO1MnPqiLYs",
        "colab": {
          "base_uri": "https://localhost:8080/"
        },
        "outputId": "2b8f708d-40b9-4ce9-9fe9-12c53f34ebb7"
      },
      "execution_count": null,
      "outputs": [
        {
          "output_type": "stream",
          "name": "stdout",
          "text": [
            "index                0.0\n",
            "Make                 0.0\n",
            "Model                0.0\n",
            "Variant              0.0\n",
            "Ex-Showroom_Price    0.0\n",
            "                    ... \n",
            "Cruise_Control       0.0\n",
            "USB_Ports            0.0\n",
            "Heads-Up_Display     0.0\n",
            "Battery              0.0\n",
            "Electric_Range       0.0\n",
            "Length: 118, dtype: float64\n",
            "index:0\n",
            "Make:0\n",
            "Model:0\n",
            "Variant:0\n",
            "Ex-Showroom_Price:0\n",
            "Displacement:0\n",
            "Cylinders:0\n",
            "Valves_Per_Cylinder:0\n",
            "Drivetrain:0\n",
            "Cylinder_Configuration:0\n",
            "Emission_Norm:0\n",
            "Engine_Location:0\n",
            "Fuel_System:0\n",
            "Fuel_Tank_Capacity:0\n",
            "Fuel_Type:0\n",
            "Height:0\n",
            "Length:0\n",
            "Width:0\n",
            "Doors:0\n",
            "City_Mileage:0\n",
            "Highway_Mileage:0\n",
            "ARAI_Certified_Mileage:0\n",
            "ARAI_Certified_Mileage_for_CNG:0\n",
            "Kerb_Weight:0\n",
            "Gears:0\n",
            "Ground_Clearance:0\n",
            "Front_Brakes:0\n",
            "Rear_Brakes:0\n",
            "Front_Suspension:0\n",
            "Rear_Suspension:0\n",
            "Front_Track:0\n",
            "Rear_Track:0\n",
            "Front_Tyre_&_Rim:0\n",
            "Rear_Tyre_&_Rim:0\n",
            "Power_Steering:0\n",
            "Power_Windows:0\n",
            "Power_Seats:0\n",
            "Power:0\n",
            "Tachometer:0\n",
            "Seating_Capacity:0\n",
            "Seats_Material:0\n",
            "Type:0\n",
            "Wheelbase:0\n",
            "Wheels_Size:0\n",
            "Start_/_Stop_Button:0\n",
            "12v_Power_Outlet:0\n",
            "Audiosystem:0\n",
            "Aux-in_Compatibility:0\n",
            "Average_Fuel_Consumption:0\n",
            "Basic_Warranty:0\n",
            "Boot-lid_Opener:0\n",
            "Boot_Space:0\n",
            "CD_/_MP3_/_DVD_Player:0\n",
            "Central_Locking:0\n",
            "Engine_Malfunction_Light:0\n",
            "Extended_Warranty:0\n",
            "FM_Radio:0\n",
            "Instrument_Console:0\n",
            "Low_Fuel_Warning:0\n",
            "Minimum_Turning_Radius:0\n",
            "Multifunction_Display:0\n",
            "Sun_Visor:0\n",
            "Third_Row_AC_Vents:0\n",
            "Ventilation_System:0\n",
            "Gear_Indicator:0\n",
            "3_Point_Seat-Belt_in_Middle_Rear_Seat:0\n",
            "Ambient_Lightning:0\n",
            "Cargo/Boot_Lights:0\n",
            "Drive_Modes:0\n",
            "Engine_Immobilizer:0\n",
            "High_Speed_Alert_System:0\n",
            "Lane_Watch_Camera/_Side_Mirror_Camera:0\n",
            "Passenger_Side_Seat-Belt_Reminder:0\n",
            "Seat_Back_Pockets:0\n",
            "Voice_Recognition:0\n",
            "Walk_Away_Auto_Car_Lock:0\n",
            "ABS_(Anti-lock_Braking_System):0\n",
            "Headlight_Reminder:0\n",
            "Adjustable_Headrests:0\n",
            "Gross_Vehicle_Weight:0\n",
            "Airbags:0\n",
            "Door_Ajar_Warning:0\n",
            "EBD_(Electronic_Brake-force_Distribution):0\n",
            "Fasten_Seat_Belt_Warning:0\n",
            "Gear_Shift_Reminder:0\n",
            "Number_of_Airbags:0\n",
            "Compression_Ratio:0\n",
            "Adjustable_Steering_Column:0\n",
            "Other_Specs:0\n",
            "Other_specs:0\n",
            "Parking_Assistance:0\n",
            "Android_Auto:0\n",
            "Apple_CarPlay:0\n",
            "Infotainment_Screen:0\n",
            "Multifunction_Steering_Wheel:0\n",
            "Average_Speed:0\n",
            "EBA_(Electronic_Brake_Assist):0\n",
            "Seat_Height_Adjustment:0\n",
            "Navigation_System:0\n",
            "Second_Row_AC_Vents:0\n",
            "Tyre_Pressure_Monitoring_System:0\n",
            "Rear_Center_Armrest:0\n",
            "ESP_(Electronic_Stability_Program):0\n",
            "Cooled_Glove_Box:0\n",
            "Recommended_Tyre_Pressure:0\n",
            "Heated_Seats:0\n",
            "Turbocharger:0\n",
            "ISOFIX_(Child-Seat_Mount):0\n",
            "Rain_Sensing_Wipers:0\n",
            "Paddle_Shifters:0\n",
            "Automatic_Headlamps:0\n",
            "Engine_Type:0\n",
            "ASR_/_Traction_Control:0\n",
            "Cruise_Control:0\n",
            "USB_Ports:0\n",
            "Heads-Up_Display:0\n",
            "Battery:0\n",
            "Electric_Range:0\n"
          ]
        }
      ]
    },
    {
      "cell_type": "code",
      "source": [
        "City_Mileagear = []\n",
        "\n",
        "# for var in data['ARAI_Certified_Mileage'] :\n",
        " res=float(var.replace' km/litre','')\n",
        "  #ls=var.split(' ').pop()\n",
        "  #var=[float(var) for value in var.split(' km/litre')]\n",
        "  #print(var)\n",
        "  # var = var.split(' ')[-1]\n",
        "  #ls = var.split(' ').pop()\n",
        "  # print(ls)\n",
        "  #var = ''\n",
        "  #for i in range(len(ls)):\n",
        "   # var = var + ls[i]\n",
        "  # print(var)\n",
        " for \n",
        "  City_Mileagear.append(res)\n",
        "print(City_Mileagear)  \n",
        "for i in range(len(data['ARAI_Certified_Mileage'])):\n",
        "  data['ARAI_Certified_Mileage'][i] = float(Showroom_Price[i])\n",
        "\n",
        "\n",
        "\n",
        "data.head()"
      ],
      "metadata": {
        "id": "GkTpT93ti3YE",
        "colab": {
          "base_uri": "https://localhost:8080/",
          "height": 130
        },
        "outputId": "dfe18704-71d7-48ff-f218-70791b410ad1"
      },
      "execution_count": null,
      "outputs": [
        {
          "output_type": "error",
          "ename": "IndentationError",
          "evalue": "ignored",
          "traceback": [
            "\u001b[0;36m  File \u001b[0;32m\"<ipython-input-83-88ef55c06a78>\"\u001b[0;36m, line \u001b[0;32m4\u001b[0m\n\u001b[0;31m    res=float(var.replace' km/litre','')\u001b[0m\n\u001b[0m    ^\u001b[0m\n\u001b[0;31mIndentationError\u001b[0m\u001b[0;31m:\u001b[0m unexpected indent\n"
          ]
        }
      ]
    },
    {
      "cell_type": "code",
      "source": [
        "import seaborn as sns \n",
        " \n",
        "sns.heatmap(data.corr(), annot=True, cmap='coolwarm') \n",
        "plt.show() "
      ],
      "metadata": {
        "colab": {
          "base_uri": "https://localhost:8080/",
          "height": 359
        },
        "id": "7NM0eh4eSOmg",
        "outputId": "01c4720c-3062-4434-d363-bb3628f42444"
      },
      "execution_count": null,
      "outputs": [
        {
          "output_type": "display_data",
          "data": {
            "text/plain": [
              "<Figure size 432x288 with 2 Axes>"
            ],
            "image/png": "[encoded data removed]"
          },
          "metadata": {
            "needs_background": "light"
          }
        }
      ]
    },
    {
      "cell_type": "code",
      "source": [
        "# dropping nan values rows in dataframe whenever nan value in data['ARAI_Certified_Mileage'] column\n",
        "\n",
        "data= data.dropna()\n",
        "data.head()\n",
        "\n",
        "\n",
        "\n",
        "\n",
        "City_Mileagear = []\n",
        "\n",
        "for var in data['ARAI_Certified_Mileage'] :\n",
        "  # var = var.split(' ')[-1]\n",
        "  # ls = var.split(' ')[-1].split(',')\n",
        "  ls = var\n",
        "  print(ls)\n",
        "#   ruppees_modified = ''\n",
        "#   for i in range(len(ls)):\n",
        "#     ruppees_modified = ruppees_modified + ls[i]\n",
        "#   # print(ruppees_modified)\n",
        "#   Showroom_Price.append(ruppees_modified)\n",
        "# print(Showroom_Price)  \n",
        "\n",
        "# for i in range(len(data['Ex-Showroom_Price'])):\n",
        "#   data['Ex-Showroom_Price'][i] = int(Showroom_Price[i])\n",
        "\n",
        "data.head()"
      ],
      "metadata": {
        "id": "PryiAkzlGjbL"
      },
      "execution_count": null,
      "outputs": []
    },
    {
      "cell_type": "code",
      "source": [
        "\n",
        "data.drop('Odometer',inplace=True,axis=1)\n",
        "data.drop('Speedometer',inplace=True,axis=1)\n",
        "data.drop('Tripmeter',inplace=True,axis=1)\n",
        "data.drop('Bluetooth',inplace=True,axis=1)\n",
        "data.drop('Child_Safety_Locks',inplace=True,axis=1)\n",
        "data.drop('Clock',inplace=True,axis=1)\n",
        "data.drop('Cup_Holders',inplace=True,axis=1)\n",
        "data.drop('Distance_to_Empty',inplace=True,axis=1)\n",
        "data.drop('Door_Pockets',inplace=True,axis=1)\n",
        "data.drop('Fuel-lid_Opener',inplace=True,axis=1)\n",
        "data.drop('Fuel_Gauge',inplace=True,axis=1)\n",
        "data.drop('Handbrake',inplace=True,axis=1)\n",
        "data.drop('Hill_Assist',inplace=True,axis=1)\n",
        "data.drop('Auto-Dimming_Rear-View_Mirror',inplace=True,axis=1)\n",
        "data.drop('Cigarette_Lighter',inplace=True,axis=1)\n",
        "data.drop('Key_Off_Reminder',inplace=True,axis=1)\n",
        "data.drop('USB_Compatibility',inplace=True,axis=1)\n",
        "data.drop('iPod_Compatibility',inplace=True,axis=1)\n",
        "data.drop('Welcome_Lights',inplace=True,axis=1)\n",
        "data.drop('Body_Type',inplace=True,axis=1)\n",
        "data.drop('Keyless_Entry',inplace=True,axis=1)\n",
        "data.drop('Torque',inplace=True,axis=1)\n",
        "data.head()"
      ],
      "metadata": {
        "id": "KVtIribxWAvi",
        "colab": {
          "base_uri": "https://localhost:8080/",
          "height": 399
        },
        "outputId": "08186ed6-53d8-49d5-9d8b-4ce6419e6be0"
      },
      "execution_count": null,
      "outputs": [
        {
          "output_type": "error",
          "ename": "KeyError",
          "evalue": "ignored",
          "traceback": [
            "\u001b[0;31m---------------------------------------------------------------------------\u001b[0m",
            "\u001b[0;31mKeyError\u001b[0m                                  Traceback (most recent call last)",
            "\u001b[0;32m<ipython-input-33-98c358a00b73>\u001b[0m in \u001b[0;36m<module>\u001b[0;34m()\u001b[0m\n\u001b[1;32m      1\u001b[0m \u001b[0;34m\u001b[0m\u001b[0m\n\u001b[0;32m----> 2\u001b[0;31m \u001b[0mdata\u001b[0m\u001b[0;34m.\u001b[0m\u001b[0mdrop\u001b[0m\u001b[0;34m(\u001b[0m\u001b[0;34m'Odometer'\u001b[0m\u001b[0;34m,\u001b[0m\u001b[0minplace\u001b[0m\u001b[0;34m=\u001b[0m\u001b[0;32mTrue\u001b[0m\u001b[0;34m,\u001b[0m\u001b[0maxis\u001b[0m\u001b[0;34m=\u001b[0m\u001b[0;36m1\u001b[0m\u001b[0;34m)\u001b[0m\u001b[0;34m\u001b[0m\u001b[0;34m\u001b[0m\u001b[0m\n\u001b[0m\u001b[1;32m      3\u001b[0m \u001b[0mdata\u001b[0m\u001b[0;34m.\u001b[0m\u001b[0mdrop\u001b[0m\u001b[0;34m(\u001b[0m\u001b[0;34m'Speedometer'\u001b[0m\u001b[0;34m,\u001b[0m\u001b[0minplace\u001b[0m\u001b[0;34m=\u001b[0m\u001b[0;32mTrue\u001b[0m\u001b[0;34m,\u001b[0m\u001b[0maxis\u001b[0m\u001b[0;34m=\u001b[0m\u001b[0;36m1\u001b[0m\u001b[0;34m)\u001b[0m\u001b[0;34m\u001b[0m\u001b[0;34m\u001b[0m\u001b[0m\n\u001b[1;32m      4\u001b[0m \u001b[0mdata\u001b[0m\u001b[0;34m.\u001b[0m\u001b[0mdrop\u001b[0m\u001b[0;34m(\u001b[0m\u001b[0;34m'Tripmeter'\u001b[0m\u001b[0;34m,\u001b[0m\u001b[0minplace\u001b[0m\u001b[0;34m=\u001b[0m\u001b[0;32mTrue\u001b[0m\u001b[0;34m,\u001b[0m\u001b[0maxis\u001b[0m\u001b[0;34m=\u001b[0m\u001b[0;36m1\u001b[0m\u001b[0;34m)\u001b[0m\u001b[0;34m\u001b[0m\u001b[0;34m\u001b[0m\u001b[0m\n\u001b[1;32m      5\u001b[0m \u001b[0mdata\u001b[0m\u001b[0;34m.\u001b[0m\u001b[0mdrop\u001b[0m\u001b[0;34m(\u001b[0m\u001b[0;34m'Bluetooth'\u001b[0m\u001b[0;34m,\u001b[0m\u001b[0minplace\u001b[0m\u001b[0;34m=\u001b[0m\u001b[0;32mTrue\u001b[0m\u001b[0;34m,\u001b[0m\u001b[0maxis\u001b[0m\u001b[0;34m=\u001b[0m\u001b[0;36m1\u001b[0m\u001b[0;34m)\u001b[0m\u001b[0;34m\u001b[0m\u001b[0;34m\u001b[0m\u001b[0m\n",
            "\u001b[0;32m/usr/local/lib/python3.7/dist-packages/pandas/util/_decorators.py\u001b[0m in \u001b[0;36mwrapper\u001b[0;34m(*args, **kwargs)\u001b[0m\n\u001b[1;32m    309\u001b[0m                     \u001b[0mstacklevel\u001b[0m\u001b[0;34m=\u001b[0m\u001b[0mstacklevel\u001b[0m\u001b[0;34m,\u001b[0m\u001b[0;34m\u001b[0m\u001b[0;34m\u001b[0m\u001b[0m\n\u001b[1;32m    310\u001b[0m                 )\n\u001b[0;32m--> 311\u001b[0;31m             \u001b[0;32mreturn\u001b[0m \u001b[0mfunc\u001b[0m\u001b[0;34m(\u001b[0m\u001b[0;34m*\u001b[0m\u001b[0margs\u001b[0m\u001b[0;34m,\u001b[0m \u001b[0;34m**\u001b[0m\u001b[0mkwargs\u001b[0m\u001b[0;34m)\u001b[0m\u001b[0;34m\u001b[0m\u001b[0;34m\u001b[0m\u001b[0m\n\u001b[0m\u001b[1;32m    312\u001b[0m \u001b[0;34m\u001b[0m\u001b[0m\n\u001b[1;32m    313\u001b[0m         \u001b[0;32mreturn\u001b[0m \u001b[0mwrapper\u001b[0m\u001b[0;34m\u001b[0m\u001b[0;34m\u001b[0m\u001b[0m\n",
            "\u001b[0;32m/usr/local/lib/python3.7/dist-packages/pandas/core/frame.py\u001b[0m in \u001b[0;36mdrop\u001b[0;34m(self, labels, axis, index, columns, level, inplace, errors)\u001b[0m\n\u001b[1;32m   4911\u001b[0m             \u001b[0mlevel\u001b[0m\u001b[0;34m=\u001b[0m\u001b[0mlevel\u001b[0m\u001b[0;34m,\u001b[0m\u001b[0;34m\u001b[0m\u001b[0;34m\u001b[0m\u001b[0m\n\u001b[1;32m   4912\u001b[0m             \u001b[0minplace\u001b[0m\u001b[0;34m=\u001b[0m\u001b[0minplace\u001b[0m\u001b[0;34m,\u001b[0m\u001b[0;34m\u001b[0m\u001b[0;34m\u001b[0m\u001b[0m\n\u001b[0;32m-> 4913\u001b[0;31m             \u001b[0merrors\u001b[0m\u001b[0;34m=\u001b[0m\u001b[0merrors\u001b[0m\u001b[0;34m,\u001b[0m\u001b[0;34m\u001b[0m\u001b[0;34m\u001b[0m\u001b[0m\n\u001b[0m\u001b[1;32m   4914\u001b[0m         )\n\u001b[1;32m   4915\u001b[0m \u001b[0;34m\u001b[0m\u001b[0m\n",
            "\u001b[0;32m/usr/local/lib/python3.7/dist-packages/pandas/core/generic.py\u001b[0m in \u001b[0;36mdrop\u001b[0;34m(self, labels, axis, index, columns, level, inplace, errors)\u001b[0m\n\u001b[1;32m   4148\u001b[0m         \u001b[0;32mfor\u001b[0m \u001b[0maxis\u001b[0m\u001b[0;34m,\u001b[0m \u001b[0mlabels\u001b[0m \u001b[0;32min\u001b[0m \u001b[0maxes\u001b[0m\u001b[0;34m.\u001b[0m\u001b[0mitems\u001b[0m\u001b[0;34m(\u001b[0m\u001b[0;34m)\u001b[0m\u001b[0;34m:\u001b[0m\u001b[0;34m\u001b[0m\u001b[0;34m\u001b[0m\u001b[0m\n\u001b[1;32m   4149\u001b[0m             \u001b[0;32mif\u001b[0m \u001b[0mlabels\u001b[0m \u001b[0;32mis\u001b[0m \u001b[0;32mnot\u001b[0m \u001b[0;32mNone\u001b[0m\u001b[0;34m:\u001b[0m\u001b[0;34m\u001b[0m\u001b[0;34m\u001b[0m\u001b[0m\n\u001b[0;32m-> 4150\u001b[0;31m                 \u001b[0mobj\u001b[0m \u001b[0;34m=\u001b[0m \u001b[0mobj\u001b[0m\u001b[0;34m.\u001b[0m\u001b[0m_drop_axis\u001b[0m\u001b[0;34m(\u001b[0m\u001b[0mlabels\u001b[0m\u001b[0;34m,\u001b[0m \u001b[0maxis\u001b[0m\u001b[0;34m,\u001b[0m \u001b[0mlevel\u001b[0m\u001b[0;34m=\u001b[0m\u001b[0mlevel\u001b[0m\u001b[0;34m,\u001b[0m \u001b[0merrors\u001b[0m\u001b[0;34m=\u001b[0m\u001b[0merrors\u001b[0m\u001b[0;34m)\u001b[0m\u001b[0;34m\u001b[0m\u001b[0;34m\u001b[0m\u001b[0m\n\u001b[0m\u001b[1;32m   4151\u001b[0m \u001b[0;34m\u001b[0m\u001b[0m\n\u001b[1;32m   4152\u001b[0m         \u001b[0;32mif\u001b[0m \u001b[0minplace\u001b[0m\u001b[0;34m:\u001b[0m\u001b[0;34m\u001b[0m\u001b[0;34m\u001b[0m\u001b[0m\n",
            "\u001b[0;32m/usr/local/lib/python3.7/dist-packages/pandas/core/generic.py\u001b[0m in \u001b[0;36m_drop_axis\u001b[0;34m(self, labels, axis, level, errors)\u001b[0m\n\u001b[1;32m   4183\u001b[0m                 \u001b[0mnew_axis\u001b[0m \u001b[0;34m=\u001b[0m \u001b[0maxis\u001b[0m\u001b[0;34m.\u001b[0m\u001b[0mdrop\u001b[0m\u001b[0;34m(\u001b[0m\u001b[0mlabels\u001b[0m\u001b[0;34m,\u001b[0m \u001b[0mlevel\u001b[0m\u001b[0;34m=\u001b[0m\u001b[0mlevel\u001b[0m\u001b[0;34m,\u001b[0m \u001b[0merrors\u001b[0m\u001b[0;34m=\u001b[0m\u001b[0merrors\u001b[0m\u001b[0;34m)\u001b[0m\u001b[0;34m\u001b[0m\u001b[0;34m\u001b[0m\u001b[0m\n\u001b[1;32m   4184\u001b[0m             \u001b[0;32melse\u001b[0m\u001b[0;34m:\u001b[0m\u001b[0;34m\u001b[0m\u001b[0;34m\u001b[0m\u001b[0m\n\u001b[0;32m-> 4185\u001b[0;31m                 \u001b[0mnew_axis\u001b[0m \u001b[0;34m=\u001b[0m \u001b[0maxis\u001b[0m\u001b[0;34m.\u001b[0m\u001b[0mdrop\u001b[0m\u001b[0;34m(\u001b[0m\u001b[0mlabels\u001b[0m\u001b[0;34m,\u001b[0m \u001b[0merrors\u001b[0m\u001b[0;34m=\u001b[0m\u001b[0merrors\u001b[0m\u001b[0;34m)\u001b[0m\u001b[0;34m\u001b[0m\u001b[0;34m\u001b[0m\u001b[0m\n\u001b[0m\u001b[1;32m   4186\u001b[0m             \u001b[0mresult\u001b[0m \u001b[0;34m=\u001b[0m \u001b[0mself\u001b[0m\u001b[0;34m.\u001b[0m\u001b[0mreindex\u001b[0m\u001b[0;34m(\u001b[0m\u001b[0;34m**\u001b[0m\u001b[0;34m{\u001b[0m\u001b[0maxis_name\u001b[0m\u001b[0;34m:\u001b[0m \u001b[0mnew_axis\u001b[0m\u001b[0;34m}\u001b[0m\u001b[0;34m)\u001b[0m\u001b[0;34m\u001b[0m\u001b[0;34m\u001b[0m\u001b[0m\n\u001b[1;32m   4187\u001b[0m \u001b[0;34m\u001b[0m\u001b[0m\n",
            "\u001b[0;32m/usr/local/lib/python3.7/dist-packages/pandas/core/indexes/base.py\u001b[0m in \u001b[0;36mdrop\u001b[0;34m(self, labels, errors)\u001b[0m\n\u001b[1;32m   6015\u001b[0m         \u001b[0;32mif\u001b[0m \u001b[0mmask\u001b[0m\u001b[0;34m.\u001b[0m\u001b[0many\u001b[0m\u001b[0;34m(\u001b[0m\u001b[0;34m)\u001b[0m\u001b[0;34m:\u001b[0m\u001b[0;34m\u001b[0m\u001b[0;34m\u001b[0m\u001b[0m\n\u001b[1;32m   6016\u001b[0m             \u001b[0;32mif\u001b[0m \u001b[0merrors\u001b[0m \u001b[0;34m!=\u001b[0m \u001b[0;34m\"ignore\"\u001b[0m\u001b[0;34m:\u001b[0m\u001b[0;34m\u001b[0m\u001b[0;34m\u001b[0m\u001b[0m\n\u001b[0;32m-> 6017\u001b[0;31m                 \u001b[0;32mraise\u001b[0m \u001b[0mKeyError\u001b[0m\u001b[0;34m(\u001b[0m\u001b[0;34mf\"{labels[mask]} not found in axis\"\u001b[0m\u001b[0;34m)\u001b[0m\u001b[0;34m\u001b[0m\u001b[0;34m\u001b[0m\u001b[0m\n\u001b[0m\u001b[1;32m   6018\u001b[0m             \u001b[0mindexer\u001b[0m \u001b[0;34m=\u001b[0m \u001b[0mindexer\u001b[0m\u001b[0;34m[\u001b[0m\u001b[0;34m~\u001b[0m\u001b[0mmask\u001b[0m\u001b[0;34m]\u001b[0m\u001b[0;34m\u001b[0m\u001b[0;34m\u001b[0m\u001b[0m\n\u001b[1;32m   6019\u001b[0m         \u001b[0;32mreturn\u001b[0m \u001b[0mself\u001b[0m\u001b[0;34m.\u001b[0m\u001b[0mdelete\u001b[0m\u001b[0;34m(\u001b[0m\u001b[0mindexer\u001b[0m\u001b[0;34m)\u001b[0m\u001b[0;34m\u001b[0m\u001b[0;34m\u001b[0m\u001b[0m\n",
            "\u001b[0;31mKeyError\u001b[0m: \"['Odometer'] not found in axis\""
          ]
        }
      ]
    },
    {
      "cell_type": "code",
      "source": [
        "import matplotlib.pyplot as plt\n",
        "\n",
        "import csv\n",
        "xyz = [(x1,y1) for (x1,y1) in (data['index'], data['Ex-Showroom_Price'']) ]\n",
        "x= data['index']\n",
        "y=[int(var) for var in data['Ex-Showroom_Price']]\n",
        "plt.xlabel('Tachometer')\n",
        "plt.ylabel('Ex-Showroom_Price')\n",
        "plt.scatter(x,y)\n",
        "plt.plot(x,y)\n",
        "plt.bar(x,y)\n",
        "plt.show()"
      ],
      "metadata": {
        "id": "IFwgiZhKdmQG",
        "colab": {
          "base_uri": "https://localhost:8080/",
          "height": 279
        },
        "outputId": "93951487-eaab-476a-acf7-73d882b5e482"
      },
      "execution_count": null,
      "outputs": [
        {
          "output_type": "display_data",
          "data": {
            "text/plain": [
              "<Figure size 432x288 with 1 Axes>"
            ],
            "image/png": "[encoded data removed]"
          },
          "metadata": {
            "needs_background": "light"
          }
        }
      ]
    },
    {
      "cell_type": "code",
      "source": [
        "data['Ex-Showroom_Price'].plot(kind='hist',vert=False, figsize=(14,6))\n",
        "#data.ticklabel_format(useOffset=False)"
      ],
      "metadata": {
        "id": "_Z-2vwWjnT1o",
        "colab": {
          "base_uri": "https://localhost:8080/",
          "height": 698
        },
        "outputId": "76c8c5e5-08bb-41b4-8b63-2d6db11980df"
      },
      "execution_count": null,
      "outputs": [
        {
          "output_type": "error",
          "ename": "AttributeError",
          "evalue": "ignored",
          "traceback": [
            "\u001b[0;31m---------------------------------------------------------------------------\u001b[0m",
            "\u001b[0;31mAttributeError\u001b[0m                            Traceback (most recent call last)",
            "\u001b[0;32m<ipython-input-88-f66ba3a92370>\u001b[0m in \u001b[0;36m<module>\u001b[0;34m()\u001b[0m\n\u001b[0;32m----> 1\u001b[0;31m \u001b[0mdata\u001b[0m\u001b[0;34m[\u001b[0m\u001b[0;34m'Ex-Showroom_Price'\u001b[0m\u001b[0;34m]\u001b[0m\u001b[0;34m.\u001b[0m\u001b[0mplot\u001b[0m\u001b[0;34m(\u001b[0m\u001b[0mkind\u001b[0m\u001b[0;34m=\u001b[0m\u001b[0;34m'hist'\u001b[0m\u001b[0;34m,\u001b[0m\u001b[0mvert\u001b[0m\u001b[0;34m=\u001b[0m\u001b[0;32mFalse\u001b[0m\u001b[0;34m,\u001b[0m \u001b[0mfigsize\u001b[0m\u001b[0;34m=\u001b[0m\u001b[0;34m(\u001b[0m\u001b[0;36m14\u001b[0m\u001b[0;34m,\u001b[0m\u001b[0;36m6\u001b[0m\u001b[0;34m)\u001b[0m\u001b[0;34m)\u001b[0m\u001b[0;34m\u001b[0m\u001b[0;34m\u001b[0m\u001b[0m\n\u001b[0m\u001b[1;32m      2\u001b[0m \u001b[0;31m#data.ticklabel_format(useOffset=False)\u001b[0m\u001b[0;34m\u001b[0m\u001b[0;34m\u001b[0m\u001b[0;34m\u001b[0m\u001b[0m\n",
            "\u001b[0;32m/usr/local/lib/python3.7/dist-packages/pandas/plotting/_core.py\u001b[0m in \u001b[0;36m__call__\u001b[0;34m(self, *args, **kwargs)\u001b[0m\n\u001b[1;32m    970\u001b[0m                     \u001b[0mdata\u001b[0m\u001b[0;34m.\u001b[0m\u001b[0mcolumns\u001b[0m \u001b[0;34m=\u001b[0m \u001b[0mlabel_name\u001b[0m\u001b[0;34m\u001b[0m\u001b[0;34m\u001b[0m\u001b[0m\n\u001b[1;32m    971\u001b[0m \u001b[0;34m\u001b[0m\u001b[0m\n\u001b[0;32m--> 972\u001b[0;31m         \u001b[0;32mreturn\u001b[0m \u001b[0mplot_backend\u001b[0m\u001b[0;34m.\u001b[0m\u001b[0mplot\u001b[0m\u001b[0;34m(\u001b[0m\u001b[0mdata\u001b[0m\u001b[0;34m,\u001b[0m \u001b[0mkind\u001b[0m\u001b[0;34m=\u001b[0m\u001b[0mkind\u001b[0m\u001b[0;34m,\u001b[0m \u001b[0;34m**\u001b[0m\u001b[0mkwargs\u001b[0m\u001b[0;34m)\u001b[0m\u001b[0;34m\u001b[0m\u001b[0;34m\u001b[0m\u001b[0m\n\u001b[0m\u001b[1;32m    973\u001b[0m \u001b[0;34m\u001b[0m\u001b[0m\n\u001b[1;32m    974\u001b[0m     \u001b[0m__call__\u001b[0m\u001b[0;34m.\u001b[0m\u001b[0m__doc__\u001b[0m \u001b[0;34m=\u001b[0m \u001b[0m__doc__\u001b[0m\u001b[0;34m\u001b[0m\u001b[0;34m\u001b[0m\u001b[0m\n",
            "\u001b[0;32m/usr/local/lib/python3.7/dist-packages/pandas/plotting/_matplotlib/__init__.py\u001b[0m in \u001b[0;36mplot\u001b[0;34m(data, kind, **kwargs)\u001b[0m\n\u001b[1;32m     69\u001b[0m             \u001b[0mkwargs\u001b[0m\u001b[0;34m[\u001b[0m\u001b[0;34m\"ax\"\u001b[0m\u001b[0;34m]\u001b[0m \u001b[0;34m=\u001b[0m \u001b[0mgetattr\u001b[0m\u001b[0;34m(\u001b[0m\u001b[0max\u001b[0m\u001b[0;34m,\u001b[0m \u001b[0;34m\"left_ax\"\u001b[0m\u001b[0;34m,\u001b[0m \u001b[0max\u001b[0m\u001b[0;34m)\u001b[0m\u001b[0;34m\u001b[0m\u001b[0;34m\u001b[0m\u001b[0m\n\u001b[1;32m     70\u001b[0m     \u001b[0mplot_obj\u001b[0m \u001b[0;34m=\u001b[0m \u001b[0mPLOT_CLASSES\u001b[0m\u001b[0;34m[\u001b[0m\u001b[0mkind\u001b[0m\u001b[0;34m]\u001b[0m\u001b[0;34m(\u001b[0m\u001b[0mdata\u001b[0m\u001b[0;34m,\u001b[0m \u001b[0;34m**\u001b[0m\u001b[0mkwargs\u001b[0m\u001b[0;34m)\u001b[0m\u001b[0;34m\u001b[0m\u001b[0;34m\u001b[0m\u001b[0m\n\u001b[0;32m---> 71\u001b[0;31m     \u001b[0mplot_obj\u001b[0m\u001b[0;34m.\u001b[0m\u001b[0mgenerate\u001b[0m\u001b[0;34m(\u001b[0m\u001b[0;34m)\u001b[0m\u001b[0;34m\u001b[0m\u001b[0;34m\u001b[0m\u001b[0m\n\u001b[0m\u001b[1;32m     72\u001b[0m     \u001b[0mplot_obj\u001b[0m\u001b[0;34m.\u001b[0m\u001b[0mdraw\u001b[0m\u001b[0;34m(\u001b[0m\u001b[0;34m)\u001b[0m\u001b[0;34m\u001b[0m\u001b[0;34m\u001b[0m\u001b[0m\n\u001b[1;32m     73\u001b[0m     \u001b[0;32mreturn\u001b[0m \u001b[0mplot_obj\u001b[0m\u001b[0;34m.\u001b[0m\u001b[0mresult\u001b[0m\u001b[0;34m\u001b[0m\u001b[0;34m\u001b[0m\u001b[0m\n",
            "\u001b[0;32m/usr/local/lib/python3.7/dist-packages/pandas/plotting/_matplotlib/core.py\u001b[0m in \u001b[0;36mgenerate\u001b[0;34m(self)\u001b[0m\n\u001b[1;32m    286\u001b[0m         \u001b[0mself\u001b[0m\u001b[0;34m.\u001b[0m\u001b[0m_compute_plot_data\u001b[0m\u001b[0;34m(\u001b[0m\u001b[0;34m)\u001b[0m\u001b[0;34m\u001b[0m\u001b[0;34m\u001b[0m\u001b[0m\n\u001b[1;32m    287\u001b[0m         \u001b[0mself\u001b[0m\u001b[0;34m.\u001b[0m\u001b[0m_setup_subplots\u001b[0m\u001b[0;34m(\u001b[0m\u001b[0;34m)\u001b[0m\u001b[0;34m\u001b[0m\u001b[0;34m\u001b[0m\u001b[0m\n\u001b[0;32m--> 288\u001b[0;31m         \u001b[0mself\u001b[0m\u001b[0;34m.\u001b[0m\u001b[0m_make_plot\u001b[0m\u001b[0;34m(\u001b[0m\u001b[0;34m)\u001b[0m\u001b[0;34m\u001b[0m\u001b[0;34m\u001b[0m\u001b[0m\n\u001b[0m\u001b[1;32m    289\u001b[0m         \u001b[0mself\u001b[0m\u001b[0;34m.\u001b[0m\u001b[0m_add_table\u001b[0m\u001b[0;34m(\u001b[0m\u001b[0;34m)\u001b[0m\u001b[0;34m\u001b[0m\u001b[0;34m\u001b[0m\u001b[0m\n\u001b[1;32m    290\u001b[0m         \u001b[0mself\u001b[0m\u001b[0;34m.\u001b[0m\u001b[0m_make_legend\u001b[0m\u001b[0;34m(\u001b[0m\u001b[0;34m)\u001b[0m\u001b[0;34m\u001b[0m\u001b[0;34m\u001b[0m\u001b[0m\n",
            "\u001b[0;32m/usr/local/lib/python3.7/dist-packages/pandas/plotting/_matplotlib/hist.py\u001b[0m in \u001b[0;36m_make_plot\u001b[0;34m(self)\u001b[0m\n\u001b[1;32m    106\u001b[0m                 \u001b[0mkwds\u001b[0m\u001b[0;34m[\u001b[0m\u001b[0;34m\"weights\"\u001b[0m\u001b[0;34m]\u001b[0m \u001b[0;34m=\u001b[0m \u001b[0mweights\u001b[0m\u001b[0;34m[\u001b[0m\u001b[0;34m:\u001b[0m\u001b[0;34m,\u001b[0m \u001b[0mi\u001b[0m\u001b[0;34m]\u001b[0m\u001b[0;34m\u001b[0m\u001b[0;34m\u001b[0m\u001b[0m\n\u001b[1;32m    107\u001b[0m \u001b[0;34m\u001b[0m\u001b[0m\n\u001b[0;32m--> 108\u001b[0;31m             \u001b[0martists\u001b[0m \u001b[0;34m=\u001b[0m \u001b[0mself\u001b[0m\u001b[0;34m.\u001b[0m\u001b[0m_plot\u001b[0m\u001b[0;34m(\u001b[0m\u001b[0max\u001b[0m\u001b[0;34m,\u001b[0m \u001b[0my\u001b[0m\u001b[0;34m,\u001b[0m \u001b[0mcolumn_num\u001b[0m\u001b[0;34m=\u001b[0m\u001b[0mi\u001b[0m\u001b[0;34m,\u001b[0m \u001b[0mstacking_id\u001b[0m\u001b[0;34m=\u001b[0m\u001b[0mstacking_id\u001b[0m\u001b[0;34m,\u001b[0m \u001b[0;34m**\u001b[0m\u001b[0mkwds\u001b[0m\u001b[0;34m)\u001b[0m\u001b[0;34m\u001b[0m\u001b[0;34m\u001b[0m\u001b[0m\n\u001b[0m\u001b[1;32m    109\u001b[0m             \u001b[0mself\u001b[0m\u001b[0;34m.\u001b[0m\u001b[0m_append_legend_handles_labels\u001b[0m\u001b[0;34m(\u001b[0m\u001b[0martists\u001b[0m\u001b[0;34m[\u001b[0m\u001b[0;36m0\u001b[0m\u001b[0;34m]\u001b[0m\u001b[0;34m,\u001b[0m \u001b[0mlabel\u001b[0m\u001b[0;34m)\u001b[0m\u001b[0;34m\u001b[0m\u001b[0;34m\u001b[0m\u001b[0m\n\u001b[1;32m    110\u001b[0m \u001b[0;34m\u001b[0m\u001b[0m\n",
            "\u001b[0;32m/usr/local/lib/python3.7/dist-packages/pandas/plotting/_matplotlib/hist.py\u001b[0m in \u001b[0;36m_plot\u001b[0;34m(cls, ax, y, style, bins, bottom, column_num, stacking_id, **kwds)\u001b[0m\n\u001b[1;32m     76\u001b[0m         \u001b[0mbottom\u001b[0m \u001b[0;34m=\u001b[0m \u001b[0mbottom\u001b[0m \u001b[0;34m+\u001b[0m \u001b[0mcls\u001b[0m\u001b[0;34m.\u001b[0m\u001b[0m_get_stacked_values\u001b[0m\u001b[0;34m(\u001b[0m\u001b[0max\u001b[0m\u001b[0;34m,\u001b[0m \u001b[0mstacking_id\u001b[0m\u001b[0;34m,\u001b[0m \u001b[0mbase\u001b[0m\u001b[0;34m,\u001b[0m \u001b[0mkwds\u001b[0m\u001b[0;34m[\u001b[0m\u001b[0;34m\"label\"\u001b[0m\u001b[0;34m]\u001b[0m\u001b[0;34m)\u001b[0m\u001b[0;34m\u001b[0m\u001b[0;34m\u001b[0m\u001b[0m\n\u001b[1;32m     77\u001b[0m         \u001b[0;31m# ignore style\u001b[0m\u001b[0;34m\u001b[0m\u001b[0;34m\u001b[0m\u001b[0;34m\u001b[0m\u001b[0m\n\u001b[0;32m---> 78\u001b[0;31m         \u001b[0mn\u001b[0m\u001b[0;34m,\u001b[0m \u001b[0mbins\u001b[0m\u001b[0;34m,\u001b[0m \u001b[0mpatches\u001b[0m \u001b[0;34m=\u001b[0m \u001b[0max\u001b[0m\u001b[0;34m.\u001b[0m\u001b[0mhist\u001b[0m\u001b[0;34m(\u001b[0m\u001b[0my\u001b[0m\u001b[0;34m,\u001b[0m \u001b[0mbins\u001b[0m\u001b[0;34m=\u001b[0m\u001b[0mbins\u001b[0m\u001b[0;34m,\u001b[0m \u001b[0mbottom\u001b[0m\u001b[0;34m=\u001b[0m\u001b[0mbottom\u001b[0m\u001b[0;34m,\u001b[0m \u001b[0;34m**\u001b[0m\u001b[0mkwds\u001b[0m\u001b[0;34m)\u001b[0m\u001b[0;34m\u001b[0m\u001b[0;34m\u001b[0m\u001b[0m\n\u001b[0m\u001b[1;32m     79\u001b[0m         \u001b[0mcls\u001b[0m\u001b[0;34m.\u001b[0m\u001b[0m_update_stacker\u001b[0m\u001b[0;34m(\u001b[0m\u001b[0max\u001b[0m\u001b[0;34m,\u001b[0m \u001b[0mstacking_id\u001b[0m\u001b[0;34m,\u001b[0m \u001b[0mn\u001b[0m\u001b[0;34m)\u001b[0m\u001b[0;34m\u001b[0m\u001b[0;34m\u001b[0m\u001b[0m\n\u001b[1;32m     80\u001b[0m         \u001b[0;32mreturn\u001b[0m \u001b[0mpatches\u001b[0m\u001b[0;34m\u001b[0m\u001b[0;34m\u001b[0m\u001b[0m\n",
            "\u001b[0;32m/usr/local/lib/python3.7/dist-packages/matplotlib/__init__.py\u001b[0m in \u001b[0;36minner\u001b[0;34m(ax, data, *args, **kwargs)\u001b[0m\n\u001b[1;32m   1563\u001b[0m     \u001b[0;32mdef\u001b[0m \u001b[0minner\u001b[0m\u001b[0;34m(\u001b[0m\u001b[0max\u001b[0m\u001b[0;34m,\u001b[0m \u001b[0;34m*\u001b[0m\u001b[0margs\u001b[0m\u001b[0;34m,\u001b[0m \u001b[0mdata\u001b[0m\u001b[0;34m=\u001b[0m\u001b[0;32mNone\u001b[0m\u001b[0;34m,\u001b[0m \u001b[0;34m**\u001b[0m\u001b[0mkwargs\u001b[0m\u001b[0;34m)\u001b[0m\u001b[0;34m:\u001b[0m\u001b[0;34m\u001b[0m\u001b[0;34m\u001b[0m\u001b[0m\n\u001b[1;32m   1564\u001b[0m         \u001b[0;32mif\u001b[0m \u001b[0mdata\u001b[0m \u001b[0;32mis\u001b[0m \u001b[0;32mNone\u001b[0m\u001b[0;34m:\u001b[0m\u001b[0;34m\u001b[0m\u001b[0;34m\u001b[0m\u001b[0m\n\u001b[0;32m-> 1565\u001b[0;31m             \u001b[0;32mreturn\u001b[0m \u001b[0mfunc\u001b[0m\u001b[0;34m(\u001b[0m\u001b[0max\u001b[0m\u001b[0;34m,\u001b[0m \u001b[0;34m*\u001b[0m\u001b[0mmap\u001b[0m\u001b[0;34m(\u001b[0m\u001b[0msanitize_sequence\u001b[0m\u001b[0;34m,\u001b[0m \u001b[0margs\u001b[0m\u001b[0;34m)\u001b[0m\u001b[0;34m,\u001b[0m \u001b[0;34m**\u001b[0m\u001b[0mkwargs\u001b[0m\u001b[0;34m)\u001b[0m\u001b[0;34m\u001b[0m\u001b[0;34m\u001b[0m\u001b[0m\n\u001b[0m\u001b[1;32m   1566\u001b[0m \u001b[0;34m\u001b[0m\u001b[0m\n\u001b[1;32m   1567\u001b[0m         \u001b[0mbound\u001b[0m \u001b[0;34m=\u001b[0m \u001b[0mnew_sig\u001b[0m\u001b[0;34m.\u001b[0m\u001b[0mbind\u001b[0m\u001b[0;34m(\u001b[0m\u001b[0max\u001b[0m\u001b[0;34m,\u001b[0m \u001b[0;34m*\u001b[0m\u001b[0margs\u001b[0m\u001b[0;34m,\u001b[0m \u001b[0;34m**\u001b[0m\u001b[0mkwargs\u001b[0m\u001b[0;34m)\u001b[0m\u001b[0;34m\u001b[0m\u001b[0;34m\u001b[0m\u001b[0m\n",
            "\u001b[0;32m/usr/local/lib/python3.7/dist-packages/matplotlib/axes/_axes.py\u001b[0m in \u001b[0;36mhist\u001b[0;34m(self, x, bins, range, density, weights, cumulative, bottom, histtype, align, orientation, rwidth, log, color, label, stacked, **kwargs)\u001b[0m\n\u001b[1;32m   6817\u001b[0m             \u001b[0;32mif\u001b[0m \u001b[0mpatch\u001b[0m\u001b[0;34m:\u001b[0m\u001b[0;34m\u001b[0m\u001b[0;34m\u001b[0m\u001b[0m\n\u001b[1;32m   6818\u001b[0m                 \u001b[0mp\u001b[0m \u001b[0;34m=\u001b[0m \u001b[0mpatch\u001b[0m\u001b[0;34m[\u001b[0m\u001b[0;36m0\u001b[0m\u001b[0;34m]\u001b[0m\u001b[0;34m\u001b[0m\u001b[0;34m\u001b[0m\u001b[0m\n\u001b[0;32m-> 6819\u001b[0;31m                 \u001b[0mp\u001b[0m\u001b[0;34m.\u001b[0m\u001b[0mupdate\u001b[0m\u001b[0;34m(\u001b[0m\u001b[0mkwargs\u001b[0m\u001b[0;34m)\u001b[0m\u001b[0;34m\u001b[0m\u001b[0;34m\u001b[0m\u001b[0m\n\u001b[0m\u001b[1;32m   6820\u001b[0m                 \u001b[0;32mif\u001b[0m \u001b[0mlbl\u001b[0m \u001b[0;32mis\u001b[0m \u001b[0;32mnot\u001b[0m \u001b[0;32mNone\u001b[0m\u001b[0;34m:\u001b[0m\u001b[0;34m\u001b[0m\u001b[0;34m\u001b[0m\u001b[0m\n\u001b[1;32m   6821\u001b[0m                     \u001b[0mp\u001b[0m\u001b[0;34m.\u001b[0m\u001b[0mset_label\u001b[0m\u001b[0;34m(\u001b[0m\u001b[0mlbl\u001b[0m\u001b[0;34m)\u001b[0m\u001b[0;34m\u001b[0m\u001b[0;34m\u001b[0m\u001b[0m\n",
            "\u001b[0;32m/usr/local/lib/python3.7/dist-packages/matplotlib/artist.py\u001b[0m in \u001b[0;36mupdate\u001b[0;34m(self, props)\u001b[0m\n\u001b[1;32m   1004\u001b[0m \u001b[0;34m\u001b[0m\u001b[0m\n\u001b[1;32m   1005\u001b[0m         \u001b[0;32mwith\u001b[0m \u001b[0mcbook\u001b[0m\u001b[0;34m.\u001b[0m\u001b[0m_setattr_cm\u001b[0m\u001b[0;34m(\u001b[0m\u001b[0mself\u001b[0m\u001b[0;34m,\u001b[0m \u001b[0meventson\u001b[0m\u001b[0;34m=\u001b[0m\u001b[0;32mFalse\u001b[0m\u001b[0;34m)\u001b[0m\u001b[0;34m:\u001b[0m\u001b[0;34m\u001b[0m\u001b[0;34m\u001b[0m\u001b[0m\n\u001b[0;32m-> 1006\u001b[0;31m             \u001b[0mret\u001b[0m \u001b[0;34m=\u001b[0m \u001b[0;34m[\u001b[0m\u001b[0m_update_property\u001b[0m\u001b[0;34m(\u001b[0m\u001b[0mself\u001b[0m\u001b[0;34m,\u001b[0m \u001b[0mk\u001b[0m\u001b[0;34m,\u001b[0m \u001b[0mv\u001b[0m\u001b[0;34m)\u001b[0m \u001b[0;32mfor\u001b[0m \u001b[0mk\u001b[0m\u001b[0;34m,\u001b[0m \u001b[0mv\u001b[0m \u001b[0;32min\u001b[0m \u001b[0mprops\u001b[0m\u001b[0;34m.\u001b[0m\u001b[0mitems\u001b[0m\u001b[0;34m(\u001b[0m\u001b[0;34m)\u001b[0m\u001b[0;34m]\u001b[0m\u001b[0;34m\u001b[0m\u001b[0;34m\u001b[0m\u001b[0m\n\u001b[0m\u001b[1;32m   1007\u001b[0m \u001b[0;34m\u001b[0m\u001b[0m\n\u001b[1;32m   1008\u001b[0m         \u001b[0;32mif\u001b[0m \u001b[0mlen\u001b[0m\u001b[0;34m(\u001b[0m\u001b[0mret\u001b[0m\u001b[0;34m)\u001b[0m\u001b[0;34m:\u001b[0m\u001b[0;34m\u001b[0m\u001b[0;34m\u001b[0m\u001b[0m\n",
            "\u001b[0;32m/usr/local/lib/python3.7/dist-packages/matplotlib/artist.py\u001b[0m in \u001b[0;36m<listcomp>\u001b[0;34m(.0)\u001b[0m\n\u001b[1;32m   1004\u001b[0m \u001b[0;34m\u001b[0m\u001b[0m\n\u001b[1;32m   1005\u001b[0m         \u001b[0;32mwith\u001b[0m \u001b[0mcbook\u001b[0m\u001b[0;34m.\u001b[0m\u001b[0m_setattr_cm\u001b[0m\u001b[0;34m(\u001b[0m\u001b[0mself\u001b[0m\u001b[0;34m,\u001b[0m \u001b[0meventson\u001b[0m\u001b[0;34m=\u001b[0m\u001b[0;32mFalse\u001b[0m\u001b[0;34m)\u001b[0m\u001b[0;34m:\u001b[0m\u001b[0;34m\u001b[0m\u001b[0;34m\u001b[0m\u001b[0m\n\u001b[0;32m-> 1006\u001b[0;31m             \u001b[0mret\u001b[0m \u001b[0;34m=\u001b[0m \u001b[0;34m[\u001b[0m\u001b[0m_update_property\u001b[0m\u001b[0;34m(\u001b[0m\u001b[0mself\u001b[0m\u001b[0;34m,\u001b[0m \u001b[0mk\u001b[0m\u001b[0;34m,\u001b[0m \u001b[0mv\u001b[0m\u001b[0;34m)\u001b[0m \u001b[0;32mfor\u001b[0m \u001b[0mk\u001b[0m\u001b[0;34m,\u001b[0m \u001b[0mv\u001b[0m \u001b[0;32min\u001b[0m \u001b[0mprops\u001b[0m\u001b[0;34m.\u001b[0m\u001b[0mitems\u001b[0m\u001b[0;34m(\u001b[0m\u001b[0;34m)\u001b[0m\u001b[0;34m]\u001b[0m\u001b[0;34m\u001b[0m\u001b[0;34m\u001b[0m\u001b[0m\n\u001b[0m\u001b[1;32m   1007\u001b[0m \u001b[0;34m\u001b[0m\u001b[0m\n\u001b[1;32m   1008\u001b[0m         \u001b[0;32mif\u001b[0m \u001b[0mlen\u001b[0m\u001b[0;34m(\u001b[0m\u001b[0mret\u001b[0m\u001b[0;34m)\u001b[0m\u001b[0;34m:\u001b[0m\u001b[0;34m\u001b[0m\u001b[0;34m\u001b[0m\u001b[0m\n",
            "\u001b[0;32m/usr/local/lib/python3.7/dist-packages/matplotlib/artist.py\u001b[0m in \u001b[0;36m_update_property\u001b[0;34m(self, k, v)\u001b[0m\n\u001b[1;32m   1000\u001b[0m                 \u001b[0;32mif\u001b[0m \u001b[0;32mnot\u001b[0m \u001b[0mcallable\u001b[0m\u001b[0;34m(\u001b[0m\u001b[0mfunc\u001b[0m\u001b[0;34m)\u001b[0m\u001b[0;34m:\u001b[0m\u001b[0;34m\u001b[0m\u001b[0;34m\u001b[0m\u001b[0m\n\u001b[1;32m   1001\u001b[0m                     raise AttributeError('{!r} object has no property {!r}'\n\u001b[0;32m-> 1002\u001b[0;31m                                          .format(type(self).__name__, k))\n\u001b[0m\u001b[1;32m   1003\u001b[0m                 \u001b[0;32mreturn\u001b[0m \u001b[0mfunc\u001b[0m\u001b[0;34m(\u001b[0m\u001b[0mv\u001b[0m\u001b[0;34m)\u001b[0m\u001b[0;34m\u001b[0m\u001b[0;34m\u001b[0m\u001b[0m\n\u001b[1;32m   1004\u001b[0m \u001b[0;34m\u001b[0m\u001b[0m\n",
            "\u001b[0;31mAttributeError\u001b[0m: 'Rectangle' object has no property 'vert'"
          ]
        },
        {
          "output_type": "display_data",
          "data": {
            "text/plain": [
              "<Figure size 1008x432 with 1 Axes>"
            ],
            "image/png": "[encoded data removed]"
          },
          "metadata": {
            "needs_background": "light"
          }
        }
      ]
    },
    {
      "cell_type": "code",
      "source": [
        "a=data['Ex-Showroom_Price'].plot(kind='density', figsize=(14,6))\n",
        "a.axvline(data['Ex-Showroom_Price'].mean(), color='red')"
      ],
      "metadata": {
        "id": "JWk_PF6poi_Q",
        "colab": {
          "base_uri": "https://localhost:8080/",
          "height": 415
        },
        "outputId": "c52cea28-7f3a-46d9-d3cb-edd89096229b"
      },
      "execution_count": null,
      "outputs": [
        {
          "output_type": "execute_result",
          "data": {
            "text/plain": [
              "<matplotlib.lines.Line2D at 0x7f990abfbc10>"
            ]
          },
          "metadata": {},
          "execution_count": 86
        },
        {
          "output_type": "display_data",
          "data": {
            "text/plain": [
              "<Figure size 1008x432 with 1 Axes>"
            ],
            "image/png": "[encoded data removed]"
          },
          "metadata": {
            "needs_background": "light"
          }
        }
      ]
    },
    {
      "cell_type": "code",
      "source": [
        "fig=plt.figure(flgsize=(8,8))\n",
        "plt.matshow(corr, cmap)"
      ],
      "metadata": {
        "id": "FaZ_se0-xtUR"
      },
      "execution_count": null,
      "outputs": []
    },
    {
      "cell_type": "code",
      "source": [
        "for i in range data['Ex-Showroom_Price']\n",
        "  \n",
        "  plt.plot( 'Ex-Showroom_Price')"
      ],
      "metadata": {
        "id": "qehrrO5tFGrt"
      },
      "execution_count": null,
      "outputs": []
    },
    {
      "cell_type": "code",
      "source": [
        ""
      ],
      "metadata": {
        "id": "AVWJ4-ppy6Hu"
      },
      "execution_count": null,
      "outputs": []
    }
  ]
}